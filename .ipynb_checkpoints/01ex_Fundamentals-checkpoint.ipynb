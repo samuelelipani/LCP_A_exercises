{
 "cells": [
  {
   "cell_type": "markdown",
   "metadata": {},
   "source": [
    "1\\. Write the following as a list comprehension"
   ]
  },
  {
   "cell_type": "code",
   "execution_count": 3,
   "metadata": {},
   "outputs": [
    {
     "name": "stdout",
     "output_type": "stream",
     "text": [
      "[(0, 0), (0, 1), (0, 2), (0, 3), (1, 0), (1, 1), (1, 2), (1, 3), (2, 0), (2, 1), (2, 2), (2, 3)]\n",
      "[0, 4, 16]\n"
     ]
    }
   ],
   "source": [
    "# 1\n",
    "ans = []\n",
    "for i in range(3):\n",
    "    for j in range(4):\n",
    "        ans.append((i, j))\n",
    "print (ans)\n",
    "\n",
    "# 2\n",
    "ans = map(lambda x: x*x, filter(lambda x: x%2 == 0, range(5)))\n",
    "print (list(ans))"
   ]
  },
  {
   "cell_type": "markdown",
   "metadata": {},
   "source": [
    "# Considerazioni sul secondo script\n",
    "Il secondo comando da tradurre in list comprehension risulta molto poco leggibile poichè contiene molte informazioni. Innanzitutto la funzione \"map\" contiene due argomenti, il primo è una funzione, il secondo invece una serie di punti a cui applicare la funzione del primo argomento. Il risultato sarà una lista di valori ottenuti applicando la funzione alle quantità indicate dal secondo argomento. Nello specifico si osserva che la funzione è una lambda function che assegna a x il suo quadrato mentre i numeri a cui aplicarla sono quelli appartenenti al range(0,5) congruenti a 2 modulo 2."
   ]
  },
  {
   "cell_type": "code",
   "execution_count": 13,
   "metadata": {},
   "outputs": [
    {
     "name": "stdout",
     "output_type": "stream",
     "text": [
      "[(0, 0), (0, 1), (0, 2), (0, 3), (1, 0), (1, 1), (1, 2), (1, 3), (2, 0), (2, 1), (2, 2), (2, 3)]\n",
      "[0, 4, 16]\n"
     ]
    }
   ],
   "source": [
    "#list comprehension of two scripts \n",
    "#1\n",
    "ans = [(i, j) for i in range(3) for j in range(4)]\n",
    "print(ans)\n",
    "\n",
    "#2\n",
    "ans = [x*x for x in range(5) if x%2 == 0]\n",
    "print(ans)"
   ]
  },
  {
   "cell_type": "markdown",
   "metadata": {},
   "source": [
    "2\\. Convert the following function into a pure function with no global variables or side effects"
   ]
  },
  {
   "cell_type": "code",
   "execution_count": 14,
   "metadata": {},
   "outputs": [
    {
     "name": "stdout",
     "output_type": "stream",
     "text": [
      "[1, 2, 3, 0, 1, 2, 3, 4]\n",
      "[1, 2, 3, 0, 1, 2, 3, 4]\n"
     ]
    }
   ],
   "source": [
    "x = 5\n",
    "def f(alist):\n",
    "    for i in range(x):\n",
    "         alist.append(i)\n",
    "    return alist\n",
    "\n",
    "alist = [1,2,3]\n",
    "ans = f(alist)\n",
    "print (ans)\n",
    "print (alist) # alist has been changed!"
   ]
  },
  {
   "cell_type": "markdown",
   "metadata": {},
   "source": [
    "Si chiede che la variabile alist non cambi ma che sia una local variable nella funzione f(). Il problema è che il method append interviene sulla lista essendo questa mutable la cambia."
   ]
  },
  {
   "cell_type": "code",
   "execution_count": 1,
   "metadata": {},
   "outputs": [
    {
     "name": "stdout",
     "output_type": "stream",
     "text": [
      "[1, 2, 3, 0, 1, 2, 3, 4]\n",
      "[1, 2, 3]\n"
     ]
    }
   ],
   "source": [
    "x = 5\n",
    "def f(alist):\n",
    "    return alist + [i for i in range(x)]\n",
    "#invece di cambiare la variabile alist tramite il method append uso + per aggiungere ad alist, che così diventa una variabile\n",
    "#locale, un'altra lista concatenandola costiuitia dalla list comprehension in parentesi\n",
    "alist = [1,2,3]\n",
    "ans = f(alist)\n",
    "print(ans)\n",
    "print(alist) #alist in questo caso non è cambiata perchè non è stato sfruttato il fatto che fosse un oggetto mutable "
   ]
  },
  {
   "cell_type": "markdown",
   "metadata": {},
   "source": [
    "3\\. Write a `decorator` hello that makes every wrapped function print “Hello!”, i.e. something like:\n",
    "\n",
    "```python\n",
    "@hello\n",
    "def square(x):\n",
    "    return x*x\n",
    "```\n",
    "\n"
   ]
  },
  {
   "cell_type": "code",
   "execution_count": 2,
   "metadata": {},
   "outputs": [
    {
     "name": "stdout",
     "output_type": "stream",
     "text": [
      "Hello!\n",
      "I have been decorated\n"
     ]
    }
   ],
   "source": [
    "#definisco un decoratore ad una generica funzione che stampi \"hello\" ogni volta che è aggiunto. Per farlo innanzitutto \n",
    "#bisogna capire che un decorator è una funzione che prende come argomento un'altra funzione (anche se in python la sintassi \n",
    "#è stata migliorata appositamente per contraddistinguere quando si applica un decorator). In questo caso vogliamo che esso \n",
    "#agisca come un'identità ma stampando \"Hello!\" prima della funzione eseguita. \n",
    "\n",
    "def hello_decorator(func):\n",
    "    def inner_1():\n",
    "        print(\"Hello!\")\n",
    "        func()\n",
    "    return inner_1\n",
    "\n",
    "@hello_decorator\n",
    "def function_to_be_decorated():\n",
    "    print(\"I have been decorated\")\n",
    "\n",
    "function_to_be_decorated()"
   ]
  },
  {
   "cell_type": "markdown",
   "metadata": {},
   "source": [
    "4\\. Write the factorial function so that it a) does and b) does not use recursion."
   ]
  },
  {
   "cell_type": "code",
   "execution_count": 7,
   "metadata": {},
   "outputs": [
    {
     "name": "stdout",
     "output_type": "stream",
     "text": [
      "what is the number you want to compute the factorial?\n",
      "4\n",
      "4 ! is 24\n"
     ]
    }
   ],
   "source": [
    "#a)\n",
    "#fattoriale è il blocco che viene ripetuto fino a quando automaticamente il programma assegna uno trovando x = 0 perchè ad\n",
    "#ogni applicazione di fattoriale x è diminuita di un'unità\n",
    "def fattoriale(x):\n",
    "    if x < 0 : print(\"factorial of negative number doesn't exist\")\n",
    "    elif x == 0 : \n",
    "        return 1\n",
    "    else : \n",
    "        return x*fattoriale(x-1)\n",
    "try :\n",
    "    num = int(input('what is the number you want to compute the factorial?\\n'))\n",
    "    print(num,\"! is\",fattoriale(num))\n",
    "except :\n",
    "    print(\"use a number instead!\\n\")\n",
    "#in questo modo si tiene conto anche dell'eventualità che il carattere inserito da terminale possa non essere castato a int"
   ]
  },
  {
   "cell_type": "code",
   "execution_count": 13,
   "metadata": {},
   "outputs": [
    {
     "name": "stdout",
     "output_type": "stream",
     "text": [
      "what is the number you want to compute the factorial?\n",
      "3\n",
      "the factorial of 3 is 6\n"
     ]
    }
   ],
   "source": [
    "#b)\n",
    "#Innanzitutto è necessario verificare se il numero inserito sia zero o no. Se lo è allora la funzione restituisce uno \n",
    "#altrimenti continua a lavorare, inoltre bisogna capire se tale numero sia negativo altrimenti il fattoriale non ha significato\n",
    "\n",
    "def fattoriale(x):\n",
    "    f = 1\n",
    "    if x < 0 : \n",
    "        print(\"factorial of negative number doesn't exist\")\n",
    "    elif x == 0 : \n",
    "        print(\"factorial of zero is one\")\n",
    "    else :\n",
    "        for i in range(1,x+1):\n",
    "            f *= i\n",
    "    return f\n",
    "num = int(input('what is the number you want to compute the factorial?\\n'))\n",
    "print(\"the factorial of\",num,\"is\",fattoriale(num))"
   ]
  },
  {
   "cell_type": "markdown",
   "metadata": {},
   "source": [
    "5\\. Use HOFs (zip in particular) to compute the weight of a circle, a disk and a sphere, assuming different radii and different densities:\n",
    "\n",
    "```python\n",
    "densities = {\"Al\":[0.5,1,2],\"Fe\":[3,4,5],\"Pb\": [15,20,30]}\n",
    "radii = [1,2,3]\n",
    "```\n",
    "\n",
    "where the entries of the dictionary's values are the linear, superficial and volumetric densities of the materials respectively.\n",
    "\n",
    "In particular define a list of three lambda functions using a comprehension that computes the circumference, the area and the volume for a given radius.\n"
   ]
  },
  {
   "cell_type": "code",
   "execution_count": 28,
   "metadata": {},
   "outputs": [
    {
     "name": "stdout",
     "output_type": "stream",
     "text": [
      "Masses of Al Fe and Pb (coloumns) for the three radii r= [1, 2, 3] (rows) are \n",
      " \n",
      " [3.141592653589793, 6.283185307179586, 9.42477796076938] \n",
      " [18.84955592153876, 37.69911184307752, 56.548667764616276] \n",
      " [94.24777960769379, 188.49555921538757, 282.7433388230814] \n",
      "\n",
      "Masses of Al Fe and Pb (coloumns) for the three radii r= [1, 2, 3] (rows) are \n",
      " \n",
      " [3.141592653589793, 12.566370614359172, 28.274333882308138] \n",
      " [12.566370614359172, 50.26548245743669, 113.09733552923255] \n",
      " [62.83185307179586, 251.32741228718345, 565.4866776461628] \n",
      "\n",
      "Masses of Al Fe and Pb (coloumns) for the three radii r= [1, 2, 3] (rows) are \n",
      " \n",
      " [8.377580409572781, 67.02064327658225, 226.1946710584651] \n",
      " [20.94395102393195, 167.5516081914556, 565.4866776461628] \n",
      " [125.66370614359171, 1005.3096491487337, 3392.9200658769764] \n",
      "\n"
     ]
    }
   ],
   "source": [
    "from math import pi\n",
    "#poichè mi servirà il valore del pigreco è necessario importarlo dalla libreria math\n",
    "\n",
    "densities = {\"Al\":[0.5,1,2],\"Fe\":[3,4,5],\"Pb\": [15,20,30]}\n",
    "#in questo dizionario si trovano tre keys che sono le stringhe contenenti i nomi dei materiali e per ciascuna come value \n",
    "# una lista di numeri che sono rispettivamente la densità lineare, superficiale e volumica del corrispondente materiale\n",
    "#definisco una lista di funzioni da chiamare quando mi serve da calcolare la massa dell'oggetto al variare della sua \n",
    "#dimensione, queste ritornano la lunghezza, l'area e il volume per un certo raggio r\n",
    "\n",
    "f_dim = [lambda r : 2*pi*r, lambda r : pi*r*r, lambda r : pi*r*r*r*4/3]\n",
    "\n",
    "radii = [1,2,3]\n",
    "\n",
    "#adesso è necessario creare una lista contenente tre tuples ciascuna con la densità lineare (poi sup e vol) dei tre materiali\n",
    "#e la corrispondente funzione che calcola la dimensione dell'oggetto lineare (poi sup e vol)\n",
    "\n",
    "for Al,Fe,Pb,f in zip(densities[\"Al\"],densities[\"Fe\"],densities[\"Pb\"],f_dim) :\n",
    "    mass_al = [f(r)*Al for r in radii]\n",
    "    mass_fe = [f(r)*Fe for r in radii]\n",
    "    mass_pb = [f(r)*Pb for r in radii]\n",
    "    print(\"Masses of Al Fe and Pb (coloumns) for the three radii r=\",radii,\"(rows) are \\n \\n\",mass_al, \"\\n\", mass_fe, \"\\n\", mass_pb, \"\\n\")\n"
   ]
  },
  {
   "cell_type": "markdown",
   "metadata": {},
   "source": [
    "6\\. Edit the class defintion to add an instance attribute of is_hungry = True to the Dog class. Then add a method called eat() which changes the value of is_hungry to False when called. Figure out the best way to feed each dog and then output “My dogs are hungry.” if all are hungry or “My dogs are not hungry.” if all are not hungry. The final output should look like this:\n",
    "\n",
    "`I have 3 dogs. \n",
    "Tom is 6. \n",
    "Fletcher is 7. \n",
    "Larry is 9. \n",
    "And they're all mammals, of course. \n",
    "My dogs are not hungry.\n",
    "`"
   ]
  },
  {
   "cell_type": "code",
   "execution_count": 18,
   "metadata": {},
   "outputs": [
    {
     "name": "stdout",
     "output_type": "stream",
     "text": [
      "I have 3 dogs.\n",
      "Tom is 6 years old.\n",
      "Fletcher is 7 years old.\n",
      "Larry is 9 years old.\n",
      "And they're all mammals, of course.\n",
      "My dogs are not hungry.\n"
     ]
    }
   ],
   "source": [
    "\n",
    "# Parent class\n",
    "class Dog:\n",
    "\n",
    "    #Class attribute\n",
    "    species = 'mammal'\n",
    "\n",
    "    #Instance attributes\n",
    "    def __init__(self, name, age):\n",
    "        self.name = name\n",
    "        self.age = age\n",
    "        self.is_hungry = True\n",
    "\n",
    "    #instance method\n",
    "    def description(self):\n",
    "        return \"{} is {} years old.\".format(self.name, self.age)\n",
    "\n",
    "    #instance method\n",
    "    def speak(self, sound):\n",
    "        return \"{} says {}.\".format(self.name, sound)\n",
    "    \n",
    "    #instance method\n",
    "    #con questo method modifico l'attribute is_hungry in false affermando che il cane non è più affamato\n",
    "    def eat(self):\n",
    "        self.is_hungry = False\n",
    "        \n",
    "    #instance method \n",
    "    #chiamando questo metodo è come se dessi da mangiare al cane sfruttando il precedente method eat che \n",
    "    def feed(self):\n",
    "        self.eat()\n",
    "        \n",
    "    #instance method\n",
    "    #coì verifico se sono tutti cani dunque se sono \"mammals\"\n",
    "    def get_group_name(pets):\n",
    "        count = 0\n",
    "        for pet in pets:\n",
    "            if type(pet) is Dog:\n",
    "                count = count + 1\n",
    "        if count == len(pets):\n",
    "            return \"And they're all mammals, of course.\"\n",
    "        else : \"But they are not all mammals\"\n",
    "            \n",
    "    #instance method\n",
    "    def are_hungry(pets):\n",
    "        hungry = 0\n",
    "        nothungry = 0\n",
    "        for pet in pets:\n",
    "            if pet.is_hungry == True:\n",
    "                hungry += 1\n",
    "            else:\n",
    "                nothungry += 1\n",
    "        if hungry == len(pets):\n",
    "            return \"My dogs are hungry.\"\n",
    "        elif nothungry == len(pets):\n",
    "            return \"My dogs are not hungry.\"\n",
    "        else:\n",
    "            return \"Some of my dogs are hungry, some others are not.\"\n",
    "\n",
    "#Child class (inherits from Dog class)\n",
    "class RussellTerrier(Dog):\n",
    "    def run(self, speed):\n",
    "        return \"{} runs {}\".format(self.name, speed)\n",
    "\n",
    "#Child class (inherits from Dog class)\n",
    "class Bulldog(Dog):\n",
    "    def run(self, speed):\n",
    "        return \"{} runs {}\".format(self.name, speed)\n",
    "    \n",
    "    \n",
    "dogs = [ Dog(\"Tom\", 6), Dog(\"Fletcher\", 7), Dog(\"Larry\", 9) ]\n",
    "print(\"I have\", len(dogs), \"dogs.\")\n",
    "#da questo momento in poi costruisco l'output che era stato richiesto \n",
    "\n",
    "for dog in dogs:\n",
    "    print(dog.description())\n",
    "\n",
    "\n",
    "print(Dog.get_group_name(dogs))\n",
    "\n",
    "for dog in dogs:\n",
    "    dog.feed()\n",
    "#in questo modo do da mangiare ai cani che ho inserito nella lista dogs \n",
    "\n",
    "print(Dog.are_hungry(dogs))"
   ]
  }
 ],
 "metadata": {
  "kernelspec": {
   "display_name": "Python 3",
   "language": "python",
   "name": "python3"
  },
  "language_info": {
   "codemirror_mode": {
    "name": "ipython",
    "version": 3
   },
   "file_extension": ".py",
   "mimetype": "text/x-python",
   "name": "python",
   "nbconvert_exporter": "python",
   "pygments_lexer": "ipython3",
   "version": "3.8.5"
  }
 },
 "nbformat": 4,
 "nbformat_minor": 2
}
