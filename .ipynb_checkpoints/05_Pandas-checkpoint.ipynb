{
 "cells": [
  {
   "cell_type": "markdown",
   "metadata": {},
   "source": [
    "# Pandas\n",
    "\n",
    "The `numpy` module is excellent for numerical computations, but to handle missing data or arrays with mixed types takes more work. The `pandas` module is currently the most widely used tool for data manipulation, providing high-performance, easy-to-use data structures and advanced data analysis tools.\n",
    "\n",
    "In particular `pandas` features:\n",
    "\n",
    "* A fast and efficient \"DataFrame\" object for data manipulation with integrated indexing;\n",
    "* Tools for reading and writing data between in-memory data structures and different formats (CSV, Excel, SQL, HDF5);\n",
    "* Intelligent data alignment and integrated handling of missing data;\n",
    "* Intelligent label-based slicing, fancy indexing, and subsetting of large data sets;\n",
    "* Aggregating or transforming data with a powerful \"group-by\" engine; \n",
    "* High performance merging and joining of data sets;\n",
    "* Hierarchical axis indexing provides an intuitive way of working with high-dimensional data in a lower-dimensional data structure;\n",
    "* Time series-functionalities;\n",
    "* Highly optimized for performance, with critical code paths written in Cython or C.\n"
   ]
  },
  {
   "cell_type": "code",
   "execution_count": 1,
   "metadata": {},
   "outputs": [],
   "source": [
    "import pandas as pd\n",
    "import numpy as np"
   ]
  },
  {
   "cell_type": "markdown",
   "metadata": {},
   "source": [
    "## Series\n",
    "\n",
    "Series are completely equivalent to 1D array but with axis labels and the possibility to store heterogeneous elements. Of paramount importance are the time-series, used to define time evolutions of a phenomenon. \n"
   ]
  },
  {
   "cell_type": "markdown",
   "metadata": {},
   "source": [
    "They come before the dataframe. It can be seen as a table. On the top the features of the variables labelled and also rows can be labelled. A single coloumns can be seen as a series. It's a generalization of numpy array, in the sense they do have an index, we can actually also label the index (for example time). Series form the data frame.\n",
    "They are similar to a dictionary!! we can access to the value of a dic with square brackets giving them the \"keys\""
   ]
  },
  {
   "cell_type": "code",
   "execution_count": 5,
   "metadata": {},
   "outputs": [
    {
     "name": "stdout",
     "output_type": "stream",
     "text": [
      "xs: a    0.0\n",
      "b    0.5\n",
      "c    1.0\n",
      "d    1.5\n",
      "e    2.0\n",
      "f    2.5\n",
      "g    3.0\n",
      "h    3.5\n",
      "i    4.0\n",
      "j    4.5\n",
      "dtype: float64 \n",
      "\n",
      "xs indexes: Index(['a', 'b', 'c', 'd', 'e', 'f', 'g', 'h', 'i', 'j'], dtype='object') \n",
      "\n",
      "xs values: [0.  0.5 1.  1.5 2.  2.5 3.  3.5 4.  4.5] <class 'numpy.ndarray'> \n",
      "\n",
      "2.5 2.5 3.5 \n",
      "\n",
      "d    1.5\n",
      "f    2.5\n",
      "h    3.5\n",
      "dtype: float64 \n",
      "\n",
      "<class 'pandas.core.series.Series'> \n",
      "\n"
     ]
    }
   ],
   "source": [
    "from string import ascii_lowercase as letters\n",
    "\n",
    "# Creating a series, accessing indexes, values and values by their index \n",
    "xs = pd.Series(np.arange(10)*0.5, index=tuple(letters[:10]))\n",
    "print (\"xs:\",xs,'\\n')\n",
    "print (\"xs indexes:\",xs.index,'\\n')\n",
    "# Values of the Series are actually a numpy array\n",
    "print (\"xs values:\", xs.values, type(xs.values),'\\n')\n",
    "print (xs['f'], xs.f, xs.h, '\\n')\n",
    "print (xs[['d', 'f', 'h']], '\\n')\n",
    "print (type(xs[['d', 'f', 'h']]), '\\n')"
   ]
  },
  {
   "cell_type": "code",
   "execution_count": 7,
   "metadata": {},
   "outputs": [
    {
     "name": "stdout",
     "output_type": "stream",
     "text": [
      "a    0.0\n",
      "b    0.5\n",
      "c    1.0\n",
      "dtype: float64 \n",
      "\n",
      "h    3.5\n",
      "i    4.0\n",
      "j    4.5\n",
      "dtype: float64 \n",
      "\n",
      "a    0.0\n",
      "d    1.5\n",
      "g    3.0\n",
      "j    4.5\n",
      "dtype: float64 \n",
      "\n",
      "h    3.5\n",
      "i    4.0\n",
      "j    4.5\n",
      "dtype: float64 \n",
      "\n",
      "a     1.000000\n",
      "b     1.648721\n",
      "c     2.718282\n",
      "d     4.481689\n",
      "e     7.389056\n",
      "f    12.182494\n",
      "g    20.085537\n",
      "h    33.115452\n",
      "i    54.598150\n",
      "j    90.017131\n",
      "dtype: float64 \n",
      "\n",
      "2.25 1.4361406616345072 \n",
      "\n"
     ]
    }
   ],
   "source": [
    "# Extracting elements and operations: same as numpy array but we can actually have whatever we want in a series not only numbers\n",
    "print (xs[:3],'\\n')\n",
    "print (xs[7:], '\\n')\n",
    "print (xs[::3], '\\n')\n",
    "print (xs[xs>3], '\\n') # masks\n",
    "print (np.exp(xs), '\\n') # operations element wise for numbers \n",
    "print (np.mean(xs), np.std(xs), '\\n')"
   ]
  },
  {
   "cell_type": "code",
   "execution_count": 8,
   "metadata": {},
   "outputs": [
    {
     "data": {
      "text/plain": [
       "b         1\n",
       "a       cat\n",
       "c    [2, 3]\n",
       "dtype: object"
      ]
     },
     "execution_count": 8,
     "metadata": {},
     "output_type": "execute_result"
    }
   ],
   "source": [
    "# Series can be created from python dictionary too.\n",
    "# here the key is called index \n",
    "# Notice that the elements can be whatever! (integers, string and a list)\n",
    "d = {'b' : 1, 'a' : 'cat', 'c' : [2,3]}\n",
    "pd.Series(d)"
   ]
  },
  {
   "cell_type": "markdown",
   "metadata": {},
   "source": [
    "A key difference between Series and ndarray is that operations between Series automatically align the data based on label. Thus, you can write computations without considering whether the Series involved have the same labels."
   ]
  },
  {
   "cell_type": "code",
   "execution_count": 9,
   "metadata": {},
   "outputs": [
    {
     "name": "stdout",
     "output_type": "stream",
     "text": [
      "a    0.427839\n",
      "b    0.280079\n",
      "c   -0.472928\n",
      "d   -0.405342\n",
      "e   -1.616525\n",
      "dtype: float64\n",
      "a         NaN\n",
      "b    0.560158\n",
      "c   -0.945857\n",
      "d   -0.810683\n",
      "e         NaN\n",
      "dtype: float64\n"
     ]
    }
   ],
   "source": [
    "s = pd.Series(np.random.randn(5), index=tuple(letters[:5]))\n",
    "print(s)\n",
    "s = s[1:] + s[:-1]\n",
    "print(s)"
   ]
  },
  {
   "cell_type": "markdown",
   "metadata": {},
   "source": [
    "### Time series\n",
    "\n",
    "Time series are very often used to profile the behaviour of a quantity as a function of time. Pandas as a special index for that, `DatetimeIndex`, that can be created e.g. with the function `pd.data_range()`"
   ]
  },
  {
   "cell_type": "code",
   "execution_count": 10,
   "metadata": {},
   "outputs": [
    {
     "name": "stdout",
     "output_type": "stream",
     "text": [
      "2020-11-09\n",
      "2020-11-09 14:45:10.000015\n",
      "9/11/2020 14:45:00\n",
      "DatetimeIndex(['2020-09-11 14:45:00', '2020-09-12 14:45:00',\n",
      "               '2020-09-13 14:45:00', '2020-09-14 14:45:00',\n",
      "               '2020-09-15 14:45:00', '2020-09-16 14:45:00',\n",
      "               '2020-09-17 14:45:00'],\n",
      "              dtype='datetime64[ns]', freq='D')\n",
      "DatetimeIndex(['2020-09-11 14:45:00', '2020-09-11 14:45:01',\n",
      "               '2020-09-11 14:45:02', '2020-09-11 14:45:03',\n",
      "               '2020-09-11 14:45:04', '2020-09-11 14:45:05',\n",
      "               '2020-09-11 14:45:06', '2020-09-11 14:45:07',\n",
      "               '2020-09-11 14:45:08', '2020-09-11 14:45:09',\n",
      "               ...\n",
      "               '2020-09-11 15:44:50', '2020-09-11 15:44:51',\n",
      "               '2020-09-11 15:44:52', '2020-09-11 15:44:53',\n",
      "               '2020-09-11 15:44:54', '2020-09-11 15:44:55',\n",
      "               '2020-09-11 15:44:56', '2020-09-11 15:44:57',\n",
      "               '2020-09-11 15:44:58', '2020-09-11 15:44:59'],\n",
      "              dtype='datetime64[ns]', length=3600, freq='S')\n"
     ]
    }
   ],
   "source": [
    "# to define a date, the datetime module is very useful\n",
    "import datetime as dt\n",
    "date = dt.date.today()\n",
    "print(date)\n",
    "\n",
    "date = dt.datetime(2020,11,9,14,45,10,15)\n",
    "print (date)\n",
    "\n",
    "# otherwise, several notations are interpreted too\n",
    "date = 'Nov 9 2020'\n",
    "# or alternatively\n",
    "date = '9/11/2020 14:45:00'\n",
    "print (date)\n",
    "\n",
    "days = pd.date_range(date, periods=7, freq='D')\n",
    "print (days)\n",
    "\n",
    "seconds = pd.date_range(date, periods=3600, freq='s')\n",
    "print (seconds)\n"
   ]
  },
  {
   "cell_type": "markdown",
   "metadata": {},
   "source": [
    "To learn more about the frequency strings, please see this [link](http://pandas.pydata.org/pandas-docs/stable/timeseries.html#offset-aliases)\n",
    "\n",
    "\n",
    "Timestamped data is the most basic type of time series data that associates values with points in time. For pandas objects it means using the points in time.\n",
    "\n",
    "functions like `pd.to_datetime` can be used, for instance, when reading information as string from a dataset"
   ]
  },
  {
   "cell_type": "code",
   "execution_count": 11,
   "metadata": {},
   "outputs": [
    {
     "name": "stdout",
     "output_type": "stream",
     "text": [
      "1604880000000000000\n",
      "<class 'pandas._libs.tslibs.timestamps.Timestamp'>\n",
      "2010-11-12 00:00:00\n",
      "2010-11-12 00:00:00\n",
      "1289520000000000000\n"
     ]
    }
   ],
   "source": [
    "tstamp = pd.Timestamp(dt.datetime(2020, 11, 9))\n",
    "\n",
    "# internally it counts the nanoseconds from January 1st 19\n",
    "#tstamp = pd.Timestamp(dt.datetime(1970, 1, 1, 0, 0, 0, 1))\n",
    "print(tstamp.value)\n",
    "\n",
    "# when creating a timestamp the format can be explicitly passed\n",
    "ts = pd.to_datetime('2010/11/12', format='%Y/%m/%d')\n",
    "print (type(ts))\n",
    "print (ts)\n",
    "ts = pd.to_datetime('12-11-2010 00:00', format='%d-%m-%Y %H:%M')\n",
    "print (ts)\n",
    "print (ts.value)\n",
    "\n"
   ]
  },
  {
   "cell_type": "markdown",
   "metadata": {},
   "source": [
    "A standard series can be created and (range of) elements can be used as indexes"
   ]
  },
  {
   "cell_type": "code",
   "execution_count": null,
   "metadata": {
    "scrolled": true
   },
   "outputs": [],
   "source": [
    "tseries = pd.Series(np.random.normal(10, 1, len(days)), index=days)\n",
    "# Extracting elements\n",
    "print (tseries[0:4], '\\n')\n",
    "print (tseries['2020-11-9':'2020-11-11'], '\\n') # Note - includes end time\n"
   ]
  },
  {
   "cell_type": "markdown",
   "metadata": {},
   "source": [
    "`pd.to_datetime` can also be used to create a `DatetimeIndex`:"
   ]
  },
  {
   "cell_type": "code",
   "execution_count": null,
   "metadata": {},
   "outputs": [],
   "source": [
    "pd.to_datetime([1, 2, 3, 4], unit='D', origin=pd.Timestamp('1980-02-03'))"
   ]
  },
  {
   "cell_type": "markdown",
   "metadata": {},
   "source": [
    "## DataFrame\n",
    "\n",
    "A pandas DataFrame is like a simple tabular spreadsheet. For future reference (or for people already familiar with R), a pandas DataFrame is very similar to the R DataFrame.\n",
    "\n",
    "Each column in a DataFrame is a Series object.\n",
    "\n",
    "The element can be whatever, missing data are dealt with too (as NaN)"
   ]
  },
  {
   "cell_type": "markdown",
   "metadata": {},
   "source": [
    "### DataFrame creation\n",
    "\n",
    "A DataFrame can be created implicitly, with, e.g., a DatatimeIndex object as index:"
   ]
  },
  {
   "cell_type": "markdown",
   "metadata": {},
   "source": [
    "Indexes can be in machine learning talking about binary classification labels, outputs of our data samples"
   ]
  },
  {
   "cell_type": "code",
   "execution_count": 19,
   "metadata": {},
   "outputs": [
    {
     "data": {
      "text/html": [
       "<div>\n",
       "<style scoped>\n",
       "    .dataframe tbody tr th:only-of-type {\n",
       "        vertical-align: middle;\n",
       "    }\n",
       "\n",
       "    .dataframe tbody tr th {\n",
       "        vertical-align: top;\n",
       "    }\n",
       "\n",
       "    .dataframe thead th {\n",
       "        text-align: right;\n",
       "    }\n",
       "</style>\n",
       "<table border=\"1\" class=\"dataframe\">\n",
       "  <thead>\n",
       "    <tr style=\"text-align: right;\">\n",
       "      <th></th>\n",
       "      <th>A</th>\n",
       "      <th>B</th>\n",
       "      <th>C</th>\n",
       "      <th>D</th>\n",
       "    </tr>\n",
       "  </thead>\n",
       "  <tbody>\n",
       "    <tr>\n",
       "      <th>2020-11-09 14:45:00</th>\n",
       "      <td>-1.395375</td>\n",
       "      <td>1.096395</td>\n",
       "      <td>-1.674751</td>\n",
       "      <td>-1.001985</td>\n",
       "    </tr>\n",
       "    <tr>\n",
       "      <th>2020-11-09 15:45:00</th>\n",
       "      <td>0.394478</td>\n",
       "      <td>0.185709</td>\n",
       "      <td>0.920188</td>\n",
       "      <td>0.419087</td>\n",
       "    </tr>\n",
       "    <tr>\n",
       "      <th>2020-11-09 16:45:00</th>\n",
       "      <td>-0.534601</td>\n",
       "      <td>0.842007</td>\n",
       "      <td>0.295165</td>\n",
       "      <td>1.354213</td>\n",
       "    </tr>\n",
       "    <tr>\n",
       "      <th>2020-11-09 17:45:00</th>\n",
       "      <td>-0.563931</td>\n",
       "      <td>-0.061759</td>\n",
       "      <td>-1.246896</td>\n",
       "      <td>-1.226419</td>\n",
       "    </tr>\n",
       "    <tr>\n",
       "      <th>2020-11-09 18:45:00</th>\n",
       "      <td>0.159912</td>\n",
       "      <td>-0.916528</td>\n",
       "      <td>-1.193606</td>\n",
       "      <td>-0.375001</td>\n",
       "    </tr>\n",
       "    <tr>\n",
       "      <th>2020-11-09 19:45:00</th>\n",
       "      <td>0.441479</td>\n",
       "      <td>0.695712</td>\n",
       "      <td>-2.895826</td>\n",
       "      <td>0.388445</td>\n",
       "    </tr>\n",
       "    <tr>\n",
       "      <th>2020-11-09 20:45:00</th>\n",
       "      <td>-0.409839</td>\n",
       "      <td>-0.816105</td>\n",
       "      <td>0.961186</td>\n",
       "      <td>0.029041</td>\n",
       "    </tr>\n",
       "    <tr>\n",
       "      <th>2020-11-09 21:45:00</th>\n",
       "      <td>0.599004</td>\n",
       "      <td>0.499768</td>\n",
       "      <td>0.678239</td>\n",
       "      <td>0.193979</td>\n",
       "    </tr>\n",
       "    <tr>\n",
       "      <th>2020-11-09 22:45:00</th>\n",
       "      <td>-0.557293</td>\n",
       "      <td>1.074672</td>\n",
       "      <td>2.011264</td>\n",
       "      <td>1.106672</td>\n",
       "    </tr>\n",
       "    <tr>\n",
       "      <th>2020-11-09 23:45:00</th>\n",
       "      <td>0.731060</td>\n",
       "      <td>-0.626611</td>\n",
       "      <td>-0.729961</td>\n",
       "      <td>0.667825</td>\n",
       "    </tr>\n",
       "  </tbody>\n",
       "</table>\n",
       "</div>"
      ],
      "text/plain": [
       "                            A         B         C         D\n",
       "2020-11-09 14:45:00 -1.395375  1.096395 -1.674751 -1.001985\n",
       "2020-11-09 15:45:00  0.394478  0.185709  0.920188  0.419087\n",
       "2020-11-09 16:45:00 -0.534601  0.842007  0.295165  1.354213\n",
       "2020-11-09 17:45:00 -0.563931 -0.061759 -1.246896 -1.226419\n",
       "2020-11-09 18:45:00  0.159912 -0.916528 -1.193606 -0.375001\n",
       "2020-11-09 19:45:00  0.441479  0.695712 -2.895826  0.388445\n",
       "2020-11-09 20:45:00 -0.409839 -0.816105  0.961186  0.029041\n",
       "2020-11-09 21:45:00  0.599004  0.499768  0.678239  0.193979\n",
       "2020-11-09 22:45:00 -0.557293  1.074672  2.011264  1.106672\n",
       "2020-11-09 23:45:00  0.731060 -0.626611 -0.729961  0.667825"
      ]
     },
     "metadata": {},
     "output_type": "display_data"
    }
   ],
   "source": [
    "entries=10\n",
    "dates=pd.date_range('11/9/2020 14:45:00',freq='h', periods=entries)\n",
    "df = pd.DataFrame(np.random.randn(entries,4), index=dates, columns=['A','B','C','D'])\n",
    "display(df) # is the way displaying a data frame in pandas"
   ]
  },
  {
   "cell_type": "markdown",
   "metadata": {},
   "source": [
    "or by means of a dictionary:\n"
   ]
  },
  {
   "cell_type": "code",
   "execution_count": null,
   "metadata": {},
   "outputs": [],
   "source": [
    "df2 = pd.DataFrame(\n",
    "    { 'A' : 1.,\n",
    "      'B' : pd.Timestamp('20130102'),\n",
    "      'C' : pd.Series(1,index=range(4),dtype='float32'),\n",
    "      'D' : np.arange(7,11),\n",
    "      'E' : pd.Categorical([\"test\",\"train\",\"test\",\"train\"]),\n",
    "    }\n",
    "    )\n",
    "df2"
   ]
  },
  {
   "cell_type": "markdown",
   "metadata": {},
   "source": [
    "### Viewing Data"
   ]
  },
  {
   "cell_type": "code",
   "execution_count": null,
   "metadata": {},
   "outputs": [],
   "source": [
    "df.head()"
   ]
  },
  {
   "cell_type": "code",
   "execution_count": null,
   "metadata": {},
   "outputs": [],
   "source": [
    "df.tail(4)"
   ]
  },
  {
   "cell_type": "code",
   "execution_count": null,
   "metadata": {},
   "outputs": [],
   "source": [
    "df.index"
   ]
  },
  {
   "cell_type": "code",
   "execution_count": null,
   "metadata": {},
   "outputs": [],
   "source": [
    "df.columns"
   ]
  },
  {
   "cell_type": "code",
   "execution_count": null,
   "metadata": {},
   "outputs": [],
   "source": [
    "df.values"
   ]
  },
  {
   "cell_type": "code",
   "execution_count": null,
   "metadata": {},
   "outputs": [],
   "source": [
    "df.describe()"
   ]
  },
  {
   "cell_type": "code",
   "execution_count": null,
   "metadata": {},
   "outputs": [],
   "source": [
    "df.T"
   ]
  },
  {
   "cell_type": "code",
   "execution_count": 21,
   "metadata": {},
   "outputs": [
    {
     "data": {
      "text/html": [
       "<div>\n",
       "<style scoped>\n",
       "    .dataframe tbody tr th:only-of-type {\n",
       "        vertical-align: middle;\n",
       "    }\n",
       "\n",
       "    .dataframe tbody tr th {\n",
       "        vertical-align: top;\n",
       "    }\n",
       "\n",
       "    .dataframe thead th {\n",
       "        text-align: right;\n",
       "    }\n",
       "</style>\n",
       "<table border=\"1\" class=\"dataframe\">\n",
       "  <thead>\n",
       "    <tr style=\"text-align: right;\">\n",
       "      <th></th>\n",
       "      <th>D</th>\n",
       "      <th>C</th>\n",
       "      <th>B</th>\n",
       "      <th>A</th>\n",
       "    </tr>\n",
       "  </thead>\n",
       "  <tbody>\n",
       "    <tr>\n",
       "      <th>2020-11-09 14:45:00</th>\n",
       "      <td>-1.001985</td>\n",
       "      <td>-1.674751</td>\n",
       "      <td>1.096395</td>\n",
       "      <td>-1.395375</td>\n",
       "    </tr>\n",
       "    <tr>\n",
       "      <th>2020-11-09 15:45:00</th>\n",
       "      <td>0.419087</td>\n",
       "      <td>0.920188</td>\n",
       "      <td>0.185709</td>\n",
       "      <td>0.394478</td>\n",
       "    </tr>\n",
       "    <tr>\n",
       "      <th>2020-11-09 16:45:00</th>\n",
       "      <td>1.354213</td>\n",
       "      <td>0.295165</td>\n",
       "      <td>0.842007</td>\n",
       "      <td>-0.534601</td>\n",
       "    </tr>\n",
       "    <tr>\n",
       "      <th>2020-11-09 17:45:00</th>\n",
       "      <td>-1.226419</td>\n",
       "      <td>-1.246896</td>\n",
       "      <td>-0.061759</td>\n",
       "      <td>-0.563931</td>\n",
       "    </tr>\n",
       "    <tr>\n",
       "      <th>2020-11-09 18:45:00</th>\n",
       "      <td>-0.375001</td>\n",
       "      <td>-1.193606</td>\n",
       "      <td>-0.916528</td>\n",
       "      <td>0.159912</td>\n",
       "    </tr>\n",
       "    <tr>\n",
       "      <th>2020-11-09 19:45:00</th>\n",
       "      <td>0.388445</td>\n",
       "      <td>-2.895826</td>\n",
       "      <td>0.695712</td>\n",
       "      <td>0.441479</td>\n",
       "    </tr>\n",
       "    <tr>\n",
       "      <th>2020-11-09 20:45:00</th>\n",
       "      <td>0.029041</td>\n",
       "      <td>0.961186</td>\n",
       "      <td>-0.816105</td>\n",
       "      <td>-0.409839</td>\n",
       "    </tr>\n",
       "    <tr>\n",
       "      <th>2020-11-09 21:45:00</th>\n",
       "      <td>0.193979</td>\n",
       "      <td>0.678239</td>\n",
       "      <td>0.499768</td>\n",
       "      <td>0.599004</td>\n",
       "    </tr>\n",
       "    <tr>\n",
       "      <th>2020-11-09 22:45:00</th>\n",
       "      <td>1.106672</td>\n",
       "      <td>2.011264</td>\n",
       "      <td>1.074672</td>\n",
       "      <td>-0.557293</td>\n",
       "    </tr>\n",
       "    <tr>\n",
       "      <th>2020-11-09 23:45:00</th>\n",
       "      <td>0.667825</td>\n",
       "      <td>-0.729961</td>\n",
       "      <td>-0.626611</td>\n",
       "      <td>0.731060</td>\n",
       "    </tr>\n",
       "  </tbody>\n",
       "</table>\n",
       "</div>"
      ],
      "text/plain": [
       "                            D         C         B         A\n",
       "2020-11-09 14:45:00 -1.001985 -1.674751  1.096395 -1.395375\n",
       "2020-11-09 15:45:00  0.419087  0.920188  0.185709  0.394478\n",
       "2020-11-09 16:45:00  1.354213  0.295165  0.842007 -0.534601\n",
       "2020-11-09 17:45:00 -1.226419 -1.246896 -0.061759 -0.563931\n",
       "2020-11-09 18:45:00 -0.375001 -1.193606 -0.916528  0.159912\n",
       "2020-11-09 19:45:00  0.388445 -2.895826  0.695712  0.441479\n",
       "2020-11-09 20:45:00  0.029041  0.961186 -0.816105 -0.409839\n",
       "2020-11-09 21:45:00  0.193979  0.678239  0.499768  0.599004\n",
       "2020-11-09 22:45:00  1.106672  2.011264  1.074672 -0.557293\n",
       "2020-11-09 23:45:00  0.667825 -0.729961 -0.626611  0.731060"
      ]
     },
     "execution_count": 21,
     "metadata": {},
     "output_type": "execute_result"
    }
   ],
   "source": [
    "df.sort_index(axis=1,ascending=False)"
   ]
  },
  {
   "cell_type": "code",
   "execution_count": 20,
   "metadata": {},
   "outputs": [
    {
     "data": {
      "text/html": [
       "<div>\n",
       "<style scoped>\n",
       "    .dataframe tbody tr th:only-of-type {\n",
       "        vertical-align: middle;\n",
       "    }\n",
       "\n",
       "    .dataframe tbody tr th {\n",
       "        vertical-align: top;\n",
       "    }\n",
       "\n",
       "    .dataframe thead th {\n",
       "        text-align: right;\n",
       "    }\n",
       "</style>\n",
       "<table border=\"1\" class=\"dataframe\">\n",
       "  <thead>\n",
       "    <tr style=\"text-align: right;\">\n",
       "      <th></th>\n",
       "      <th>A</th>\n",
       "      <th>B</th>\n",
       "      <th>C</th>\n",
       "      <th>D</th>\n",
       "    </tr>\n",
       "  </thead>\n",
       "  <tbody>\n",
       "    <tr>\n",
       "      <th>2020-11-09 19:45:00</th>\n",
       "      <td>0.441479</td>\n",
       "      <td>0.695712</td>\n",
       "      <td>-2.895826</td>\n",
       "      <td>0.388445</td>\n",
       "    </tr>\n",
       "    <tr>\n",
       "      <th>2020-11-09 14:45:00</th>\n",
       "      <td>-1.395375</td>\n",
       "      <td>1.096395</td>\n",
       "      <td>-1.674751</td>\n",
       "      <td>-1.001985</td>\n",
       "    </tr>\n",
       "    <tr>\n",
       "      <th>2020-11-09 17:45:00</th>\n",
       "      <td>-0.563931</td>\n",
       "      <td>-0.061759</td>\n",
       "      <td>-1.246896</td>\n",
       "      <td>-1.226419</td>\n",
       "    </tr>\n",
       "    <tr>\n",
       "      <th>2020-11-09 18:45:00</th>\n",
       "      <td>0.159912</td>\n",
       "      <td>-0.916528</td>\n",
       "      <td>-1.193606</td>\n",
       "      <td>-0.375001</td>\n",
       "    </tr>\n",
       "    <tr>\n",
       "      <th>2020-11-09 23:45:00</th>\n",
       "      <td>0.731060</td>\n",
       "      <td>-0.626611</td>\n",
       "      <td>-0.729961</td>\n",
       "      <td>0.667825</td>\n",
       "    </tr>\n",
       "    <tr>\n",
       "      <th>2020-11-09 16:45:00</th>\n",
       "      <td>-0.534601</td>\n",
       "      <td>0.842007</td>\n",
       "      <td>0.295165</td>\n",
       "      <td>1.354213</td>\n",
       "    </tr>\n",
       "    <tr>\n",
       "      <th>2020-11-09 21:45:00</th>\n",
       "      <td>0.599004</td>\n",
       "      <td>0.499768</td>\n",
       "      <td>0.678239</td>\n",
       "      <td>0.193979</td>\n",
       "    </tr>\n",
       "    <tr>\n",
       "      <th>2020-11-09 15:45:00</th>\n",
       "      <td>0.394478</td>\n",
       "      <td>0.185709</td>\n",
       "      <td>0.920188</td>\n",
       "      <td>0.419087</td>\n",
       "    </tr>\n",
       "    <tr>\n",
       "      <th>2020-11-09 20:45:00</th>\n",
       "      <td>-0.409839</td>\n",
       "      <td>-0.816105</td>\n",
       "      <td>0.961186</td>\n",
       "      <td>0.029041</td>\n",
       "    </tr>\n",
       "    <tr>\n",
       "      <th>2020-11-09 22:45:00</th>\n",
       "      <td>-0.557293</td>\n",
       "      <td>1.074672</td>\n",
       "      <td>2.011264</td>\n",
       "      <td>1.106672</td>\n",
       "    </tr>\n",
       "  </tbody>\n",
       "</table>\n",
       "</div>"
      ],
      "text/plain": [
       "                            A         B         C         D\n",
       "2020-11-09 19:45:00  0.441479  0.695712 -2.895826  0.388445\n",
       "2020-11-09 14:45:00 -1.395375  1.096395 -1.674751 -1.001985\n",
       "2020-11-09 17:45:00 -0.563931 -0.061759 -1.246896 -1.226419\n",
       "2020-11-09 18:45:00  0.159912 -0.916528 -1.193606 -0.375001\n",
       "2020-11-09 23:45:00  0.731060 -0.626611 -0.729961  0.667825\n",
       "2020-11-09 16:45:00 -0.534601  0.842007  0.295165  1.354213\n",
       "2020-11-09 21:45:00  0.599004  0.499768  0.678239  0.193979\n",
       "2020-11-09 15:45:00  0.394478  0.185709  0.920188  0.419087\n",
       "2020-11-09 20:45:00 -0.409839 -0.816105  0.961186  0.029041\n",
       "2020-11-09 22:45:00 -0.557293  1.074672  2.011264  1.106672"
      ]
     },
     "execution_count": 20,
     "metadata": {},
     "output_type": "execute_result"
    }
   ],
   "source": [
    "df.sort_values(by=\"C\") \n",
    "# it allows to sort all the others serieses accordingly to the coloumn chosen"
   ]
  },
  {
   "cell_type": "markdown",
   "metadata": {},
   "source": [
    "## Selection\n",
    "\n",
    "### Getting slices\n",
    "\n",
    "The following show how to get part of the DataFrame (i.e. not just the elements), entire coloumns for examples and their labels and so on"
   ]
  },
  {
   "cell_type": "code",
   "execution_count": 46,
   "metadata": {},
   "outputs": [
    {
     "name": "stdout",
     "output_type": "stream",
     "text": [
      "2020-11-09 14:45:00   -1.395375\n",
      "2020-11-09 15:45:00    0.394478\n",
      "2020-11-09 16:45:00   -0.534601\n",
      "2020-11-09 17:45:00   -0.563931\n",
      "2020-11-09 18:45:00    0.159912\n",
      "2020-11-09 19:45:00    0.441479\n",
      "2020-11-09 20:45:00   -0.409839\n",
      "2020-11-09 21:45:00    0.599004\n",
      "2020-11-09 22:45:00   -0.557293\n",
      "2020-11-09 23:45:00    0.731060\n",
      "Freq: H, Name: A, dtype: float64 \n",
      "\n",
      "2020-11-09 14:45:00   -1.395375\n",
      "2020-11-09 15:45:00    0.394478\n",
      "2020-11-09 16:45:00   -0.534601\n",
      "2020-11-09 17:45:00   -0.563931\n",
      "2020-11-09 18:45:00    0.159912\n",
      "2020-11-09 19:45:00    0.441479\n",
      "2020-11-09 20:45:00   -0.409839\n",
      "2020-11-09 21:45:00    0.599004\n",
      "2020-11-09 22:45:00   -0.557293\n",
      "2020-11-09 23:45:00    0.731060\n",
      "Freq: H, Name: A, dtype: float64\n",
      "2020-11-09 14:45:00   -1.395375\n",
      "2020-11-09 15:45:00    0.394478\n",
      "2020-11-09 16:45:00   -0.534601\n",
      "2020-11-09 17:45:00   -0.563931\n",
      "2020-11-09 18:45:00    0.159912\n",
      "2020-11-09 19:45:00    0.441479\n",
      "2020-11-09 20:45:00   -0.409839\n",
      "2020-11-09 21:45:00    0.599004\n",
      "2020-11-09 22:45:00   -0.557293\n",
      "2020-11-09 23:45:00    0.731060\n",
      "Freq: H, Name: A, dtype: float64\n"
     ]
    }
   ],
   "source": [
    "## standard and safe\n",
    "print(df['A'],\"\\n\")\n",
    "# the collections of values for the label/index 'A'\n",
    "# or knowing where A label is we can write \n",
    "print(df.iloc[:,0])\n",
    "## equivalent but dangerous (imagine blank spaces in the name of the column..)\n",
    "print (df.A)"
   ]
  },
  {
   "cell_type": "code",
   "execution_count": 33,
   "metadata": {},
   "outputs": [
    {
     "data": {
      "text/html": [
       "<div>\n",
       "<style scoped>\n",
       "    .dataframe tbody tr th:only-of-type {\n",
       "        vertical-align: middle;\n",
       "    }\n",
       "\n",
       "    .dataframe tbody tr th {\n",
       "        vertical-align: top;\n",
       "    }\n",
       "\n",
       "    .dataframe thead th {\n",
       "        text-align: right;\n",
       "    }\n",
       "</style>\n",
       "<table border=\"1\" class=\"dataframe\">\n",
       "  <thead>\n",
       "    <tr style=\"text-align: right;\">\n",
       "      <th></th>\n",
       "      <th>A</th>\n",
       "      <th>B</th>\n",
       "      <th>C</th>\n",
       "      <th>D</th>\n",
       "    </tr>\n",
       "  </thead>\n",
       "  <tbody>\n",
       "    <tr>\n",
       "      <th>2020-11-09 14:45:00</th>\n",
       "      <td>-1.395375</td>\n",
       "      <td>1.096395</td>\n",
       "      <td>-1.674751</td>\n",
       "      <td>-1.001985</td>\n",
       "    </tr>\n",
       "    <tr>\n",
       "      <th>2020-11-09 15:45:00</th>\n",
       "      <td>0.394478</td>\n",
       "      <td>0.185709</td>\n",
       "      <td>0.920188</td>\n",
       "      <td>0.419087</td>\n",
       "    </tr>\n",
       "    <tr>\n",
       "      <th>2020-11-09 16:45:00</th>\n",
       "      <td>-0.534601</td>\n",
       "      <td>0.842007</td>\n",
       "      <td>0.295165</td>\n",
       "      <td>1.354213</td>\n",
       "    </tr>\n",
       "  </tbody>\n",
       "</table>\n",
       "</div>"
      ],
      "text/plain": [
       "                            A         B         C         D\n",
       "2020-11-09 14:45:00 -1.395375  1.096395 -1.674751 -1.001985\n",
       "2020-11-09 15:45:00  0.394478  0.185709  0.920188  0.419087\n",
       "2020-11-09 16:45:00 -0.534601  0.842007  0.295165  1.354213"
      ]
     },
     "metadata": {},
     "output_type": "display_data"
    },
    {
     "data": {
      "text/html": [
       "<div>\n",
       "<style scoped>\n",
       "    .dataframe tbody tr th:only-of-type {\n",
       "        vertical-align: middle;\n",
       "    }\n",
       "\n",
       "    .dataframe tbody tr th {\n",
       "        vertical-align: top;\n",
       "    }\n",
       "\n",
       "    .dataframe thead th {\n",
       "        text-align: right;\n",
       "    }\n",
       "</style>\n",
       "<table border=\"1\" class=\"dataframe\">\n",
       "  <thead>\n",
       "    <tr style=\"text-align: right;\">\n",
       "      <th></th>\n",
       "      <th>A</th>\n",
       "      <th>B</th>\n",
       "      <th>C</th>\n",
       "      <th>D</th>\n",
       "    </tr>\n",
       "  </thead>\n",
       "  <tbody>\n",
       "    <tr>\n",
       "      <th>2020-11-09 14:45:00</th>\n",
       "      <td>-1.395375</td>\n",
       "      <td>1.096395</td>\n",
       "      <td>-1.674751</td>\n",
       "      <td>-1.001985</td>\n",
       "    </tr>\n",
       "    <tr>\n",
       "      <th>2020-11-09 15:45:00</th>\n",
       "      <td>0.394478</td>\n",
       "      <td>0.185709</td>\n",
       "      <td>0.920188</td>\n",
       "      <td>0.419087</td>\n",
       "    </tr>\n",
       "    <tr>\n",
       "      <th>2020-11-09 16:45:00</th>\n",
       "      <td>-0.534601</td>\n",
       "      <td>0.842007</td>\n",
       "      <td>0.295165</td>\n",
       "      <td>1.354213</td>\n",
       "    </tr>\n",
       "  </tbody>\n",
       "</table>\n",
       "</div>"
      ],
      "text/plain": [
       "                            A         B         C         D\n",
       "2020-11-09 14:45:00 -1.395375  1.096395 -1.674751 -1.001985\n",
       "2020-11-09 15:45:00  0.394478  0.185709  0.920188  0.419087\n",
       "2020-11-09 16:45:00 -0.534601  0.842007  0.295165  1.354213"
      ]
     },
     "metadata": {},
     "output_type": "display_data"
    }
   ],
   "source": [
    "# selecting rows by counting\n",
    "display(df[0:3])\n",
    "\n",
    "# or by index\n",
    "display(df[\"2020-11-09 14:45:00\":\"2020-11-09 16:45:00\"])"
   ]
  },
  {
   "cell_type": "markdown",
   "metadata": {},
   "source": [
    "### Selection by label"
   ]
  },
  {
   "cell_type": "markdown",
   "metadata": {},
   "source": [
    "Loc method gives copies, remember when we're trying to change a data frame through a mask for example. iloc returns views"
   ]
  },
  {
   "cell_type": "code",
   "execution_count": 42,
   "metadata": {},
   "outputs": [
    {
     "data": {
      "text/plain": [
       "A   -1.395375\n",
       "B    1.096395\n",
       "C   -1.674751\n",
       "D   -1.001985\n",
       "Name: 2020-11-09 14:45:00, dtype: float64"
      ]
     },
     "execution_count": 42,
     "metadata": {},
     "output_type": "execute_result"
    }
   ],
   "source": [
    "# getting a cross section (part of the DataFrame) using a label\n",
    "df.loc[dates[0]]"
   ]
  },
  {
   "cell_type": "code",
   "execution_count": 36,
   "metadata": {},
   "outputs": [
    {
     "data": {
      "text/html": [
       "<div>\n",
       "<style scoped>\n",
       "    .dataframe tbody tr th:only-of-type {\n",
       "        vertical-align: middle;\n",
       "    }\n",
       "\n",
       "    .dataframe tbody tr th {\n",
       "        vertical-align: top;\n",
       "    }\n",
       "\n",
       "    .dataframe thead th {\n",
       "        text-align: right;\n",
       "    }\n",
       "</style>\n",
       "<table border=\"1\" class=\"dataframe\">\n",
       "  <thead>\n",
       "    <tr style=\"text-align: right;\">\n",
       "      <th></th>\n",
       "      <th>A</th>\n",
       "      <th>B</th>\n",
       "    </tr>\n",
       "  </thead>\n",
       "  <tbody>\n",
       "    <tr>\n",
       "      <th>2020-11-09 14:45:00</th>\n",
       "      <td>-1.395375</td>\n",
       "      <td>1.096395</td>\n",
       "    </tr>\n",
       "    <tr>\n",
       "      <th>2020-11-09 15:45:00</th>\n",
       "      <td>0.394478</td>\n",
       "      <td>0.185709</td>\n",
       "    </tr>\n",
       "    <tr>\n",
       "      <th>2020-11-09 16:45:00</th>\n",
       "      <td>-0.534601</td>\n",
       "      <td>0.842007</td>\n",
       "    </tr>\n",
       "    <tr>\n",
       "      <th>2020-11-09 17:45:00</th>\n",
       "      <td>-0.563931</td>\n",
       "      <td>-0.061759</td>\n",
       "    </tr>\n",
       "    <tr>\n",
       "      <th>2020-11-09 18:45:00</th>\n",
       "      <td>0.159912</td>\n",
       "      <td>-0.916528</td>\n",
       "    </tr>\n",
       "    <tr>\n",
       "      <th>2020-11-09 19:45:00</th>\n",
       "      <td>0.441479</td>\n",
       "      <td>0.695712</td>\n",
       "    </tr>\n",
       "    <tr>\n",
       "      <th>2020-11-09 20:45:00</th>\n",
       "      <td>-0.409839</td>\n",
       "      <td>-0.816105</td>\n",
       "    </tr>\n",
       "    <tr>\n",
       "      <th>2020-11-09 21:45:00</th>\n",
       "      <td>0.599004</td>\n",
       "      <td>0.499768</td>\n",
       "    </tr>\n",
       "    <tr>\n",
       "      <th>2020-11-09 22:45:00</th>\n",
       "      <td>-0.557293</td>\n",
       "      <td>1.074672</td>\n",
       "    </tr>\n",
       "    <tr>\n",
       "      <th>2020-11-09 23:45:00</th>\n",
       "      <td>0.731060</td>\n",
       "      <td>-0.626611</td>\n",
       "    </tr>\n",
       "  </tbody>\n",
       "</table>\n",
       "</div>"
      ],
      "text/plain": [
       "                            A         B\n",
       "2020-11-09 14:45:00 -1.395375  1.096395\n",
       "2020-11-09 15:45:00  0.394478  0.185709\n",
       "2020-11-09 16:45:00 -0.534601  0.842007\n",
       "2020-11-09 17:45:00 -0.563931 -0.061759\n",
       "2020-11-09 18:45:00  0.159912 -0.916528\n",
       "2020-11-09 19:45:00  0.441479  0.695712\n",
       "2020-11-09 20:45:00 -0.409839 -0.816105\n",
       "2020-11-09 21:45:00  0.599004  0.499768\n",
       "2020-11-09 22:45:00 -0.557293  1.074672\n",
       "2020-11-09 23:45:00  0.731060 -0.626611"
      ]
     },
     "execution_count": 36,
     "metadata": {},
     "output_type": "execute_result"
    }
   ],
   "source": [
    "# selecting on a multi-axis by label:\n",
    "df.loc[:,['A','B']]"
   ]
  },
  {
   "cell_type": "code",
   "execution_count": null,
   "metadata": {},
   "outputs": [],
   "source": [
    "# showing label slicing, both endpoints are included:\n",
    "df.loc['2020-11-09 18:45:00':'2020-11-09 20:45:00',['A','B']]"
   ]
  },
  {
   "cell_type": "code",
   "execution_count": null,
   "metadata": {},
   "outputs": [],
   "source": [
    "# getting an individual element\n",
    "print (df.loc[dates[1],'A'])\n",
    "\n",
    "# equivalently\n",
    "print (df.at[dates[1],'A'])"
   ]
  },
  {
   "cell_type": "markdown",
   "metadata": {},
   "source": [
    "### Selecting by position"
   ]
  },
  {
   "cell_type": "code",
   "execution_count": null,
   "metadata": {},
   "outputs": [],
   "source": [
    "# select via the position of the passed integers:\n",
    "print (df.iloc[3],'\\n')\n",
    "\n",
    "# notation similar to numpy/python\n",
    "print (df.iloc[3:5,0:2])"
   ]
  },
  {
   "cell_type": "code",
   "execution_count": null,
   "metadata": {},
   "outputs": [],
   "source": [
    "# selecting raws 1,2 and 4 for columns 0 and 2\n",
    "df.iloc[[1,2,4],[0,2]]"
   ]
  },
  {
   "cell_type": "code",
   "execution_count": null,
   "metadata": {},
   "outputs": [],
   "source": [
    "# slicing rows explicitly\n",
    "print (df.iloc[1:3,:],'\\n')\n",
    "\n",
    "# slicing columns explicitly\n",
    "print (df.iloc[:,1:3])\n"
   ]
  },
  {
   "cell_type": "code",
   "execution_count": null,
   "metadata": {},
   "outputs": [],
   "source": [
    "# selecting an individual element by position\n",
    "df.iloc[1,1]\n",
    "df.iat[1,1]\n"
   ]
  },
  {
   "cell_type": "markdown",
   "metadata": {},
   "source": [
    "### Boolean index\n",
    "\n",
    "Very powerful way of filtering out data with certain features. Notation is very similar to numpy arrays."
   ]
  },
  {
   "cell_type": "code",
   "execution_count": 47,
   "metadata": {},
   "outputs": [
    {
     "data": {
      "text/html": [
       "<div>\n",
       "<style scoped>\n",
       "    .dataframe tbody tr th:only-of-type {\n",
       "        vertical-align: middle;\n",
       "    }\n",
       "\n",
       "    .dataframe tbody tr th {\n",
       "        vertical-align: top;\n",
       "    }\n",
       "\n",
       "    .dataframe thead th {\n",
       "        text-align: right;\n",
       "    }\n",
       "</style>\n",
       "<table border=\"1\" class=\"dataframe\">\n",
       "  <thead>\n",
       "    <tr style=\"text-align: right;\">\n",
       "      <th></th>\n",
       "      <th>A</th>\n",
       "      <th>B</th>\n",
       "      <th>C</th>\n",
       "      <th>D</th>\n",
       "    </tr>\n",
       "  </thead>\n",
       "  <tbody>\n",
       "    <tr>\n",
       "      <th>2020-11-09 14:45:00</th>\n",
       "      <td>-1.395375</td>\n",
       "      <td>1.096395</td>\n",
       "      <td>-1.674751</td>\n",
       "      <td>-1.001985</td>\n",
       "    </tr>\n",
       "    <tr>\n",
       "      <th>2020-11-09 15:45:00</th>\n",
       "      <td>0.394478</td>\n",
       "      <td>0.185709</td>\n",
       "      <td>0.920188</td>\n",
       "      <td>0.419087</td>\n",
       "    </tr>\n",
       "    <tr>\n",
       "      <th>2020-11-09 16:45:00</th>\n",
       "      <td>-0.534601</td>\n",
       "      <td>0.842007</td>\n",
       "      <td>0.295165</td>\n",
       "      <td>1.354213</td>\n",
       "    </tr>\n",
       "    <tr>\n",
       "      <th>2020-11-09 19:45:00</th>\n",
       "      <td>0.441479</td>\n",
       "      <td>0.695712</td>\n",
       "      <td>-2.895826</td>\n",
       "      <td>0.388445</td>\n",
       "    </tr>\n",
       "    <tr>\n",
       "      <th>2020-11-09 21:45:00</th>\n",
       "      <td>0.599004</td>\n",
       "      <td>0.499768</td>\n",
       "      <td>0.678239</td>\n",
       "      <td>0.193979</td>\n",
       "    </tr>\n",
       "    <tr>\n",
       "      <th>2020-11-09 22:45:00</th>\n",
       "      <td>-0.557293</td>\n",
       "      <td>1.074672</td>\n",
       "      <td>2.011264</td>\n",
       "      <td>1.106672</td>\n",
       "    </tr>\n",
       "  </tbody>\n",
       "</table>\n",
       "</div>"
      ],
      "text/plain": [
       "                            A         B         C         D\n",
       "2020-11-09 14:45:00 -1.395375  1.096395 -1.674751 -1.001985\n",
       "2020-11-09 15:45:00  0.394478  0.185709  0.920188  0.419087\n",
       "2020-11-09 16:45:00 -0.534601  0.842007  0.295165  1.354213\n",
       "2020-11-09 19:45:00  0.441479  0.695712 -2.895826  0.388445\n",
       "2020-11-09 21:45:00  0.599004  0.499768  0.678239  0.193979\n",
       "2020-11-09 22:45:00 -0.557293  1.074672  2.011264  1.106672"
      ]
     },
     "execution_count": 47,
     "metadata": {},
     "output_type": "execute_result"
    }
   ],
   "source": [
    "# Filter by a boolean condition on the values of a single column\n",
    "df[df['B'] > 0]\n",
    "# getting rid of the false entries"
   ]
  },
  {
   "cell_type": "code",
   "execution_count": 48,
   "metadata": {},
   "outputs": [
    {
     "data": {
      "text/html": [
       "<div>\n",
       "<style scoped>\n",
       "    .dataframe tbody tr th:only-of-type {\n",
       "        vertical-align: middle;\n",
       "    }\n",
       "\n",
       "    .dataframe tbody tr th {\n",
       "        vertical-align: top;\n",
       "    }\n",
       "\n",
       "    .dataframe thead th {\n",
       "        text-align: right;\n",
       "    }\n",
       "</style>\n",
       "<table border=\"1\" class=\"dataframe\">\n",
       "  <thead>\n",
       "    <tr style=\"text-align: right;\">\n",
       "      <th></th>\n",
       "      <th>A</th>\n",
       "      <th>B</th>\n",
       "      <th>C</th>\n",
       "      <th>D</th>\n",
       "    </tr>\n",
       "  </thead>\n",
       "  <tbody>\n",
       "    <tr>\n",
       "      <th>2020-11-09 14:45:00</th>\n",
       "      <td>NaN</td>\n",
       "      <td>1.096395</td>\n",
       "      <td>NaN</td>\n",
       "      <td>NaN</td>\n",
       "    </tr>\n",
       "    <tr>\n",
       "      <th>2020-11-09 15:45:00</th>\n",
       "      <td>0.394478</td>\n",
       "      <td>0.185709</td>\n",
       "      <td>0.920188</td>\n",
       "      <td>0.419087</td>\n",
       "    </tr>\n",
       "    <tr>\n",
       "      <th>2020-11-09 16:45:00</th>\n",
       "      <td>NaN</td>\n",
       "      <td>0.842007</td>\n",
       "      <td>0.295165</td>\n",
       "      <td>1.354213</td>\n",
       "    </tr>\n",
       "    <tr>\n",
       "      <th>2020-11-09 17:45:00</th>\n",
       "      <td>NaN</td>\n",
       "      <td>NaN</td>\n",
       "      <td>NaN</td>\n",
       "      <td>NaN</td>\n",
       "    </tr>\n",
       "    <tr>\n",
       "      <th>2020-11-09 18:45:00</th>\n",
       "      <td>0.159912</td>\n",
       "      <td>NaN</td>\n",
       "      <td>NaN</td>\n",
       "      <td>NaN</td>\n",
       "    </tr>\n",
       "    <tr>\n",
       "      <th>2020-11-09 19:45:00</th>\n",
       "      <td>0.441479</td>\n",
       "      <td>0.695712</td>\n",
       "      <td>NaN</td>\n",
       "      <td>0.388445</td>\n",
       "    </tr>\n",
       "    <tr>\n",
       "      <th>2020-11-09 20:45:00</th>\n",
       "      <td>NaN</td>\n",
       "      <td>NaN</td>\n",
       "      <td>0.961186</td>\n",
       "      <td>0.029041</td>\n",
       "    </tr>\n",
       "    <tr>\n",
       "      <th>2020-11-09 21:45:00</th>\n",
       "      <td>0.599004</td>\n",
       "      <td>0.499768</td>\n",
       "      <td>0.678239</td>\n",
       "      <td>0.193979</td>\n",
       "    </tr>\n",
       "    <tr>\n",
       "      <th>2020-11-09 22:45:00</th>\n",
       "      <td>NaN</td>\n",
       "      <td>1.074672</td>\n",
       "      <td>2.011264</td>\n",
       "      <td>1.106672</td>\n",
       "    </tr>\n",
       "    <tr>\n",
       "      <th>2020-11-09 23:45:00</th>\n",
       "      <td>0.731060</td>\n",
       "      <td>NaN</td>\n",
       "      <td>NaN</td>\n",
       "      <td>0.667825</td>\n",
       "    </tr>\n",
       "  </tbody>\n",
       "</table>\n",
       "</div>"
      ],
      "text/plain": [
       "                            A         B         C         D\n",
       "2020-11-09 14:45:00       NaN  1.096395       NaN       NaN\n",
       "2020-11-09 15:45:00  0.394478  0.185709  0.920188  0.419087\n",
       "2020-11-09 16:45:00       NaN  0.842007  0.295165  1.354213\n",
       "2020-11-09 17:45:00       NaN       NaN       NaN       NaN\n",
       "2020-11-09 18:45:00  0.159912       NaN       NaN       NaN\n",
       "2020-11-09 19:45:00  0.441479  0.695712       NaN  0.388445\n",
       "2020-11-09 20:45:00       NaN       NaN  0.961186  0.029041\n",
       "2020-11-09 21:45:00  0.599004  0.499768  0.678239  0.193979\n",
       "2020-11-09 22:45:00       NaN  1.074672  2.011264  1.106672\n",
       "2020-11-09 23:45:00  0.731060       NaN       NaN  0.667825"
      ]
     },
     "execution_count": 48,
     "metadata": {},
     "output_type": "execute_result"
    }
   ],
   "source": [
    "# Selecting on the basis of boolean conditions applied to the whole DataFrame\n",
    "df[df>0]\n",
    "\n",
    "# a DataFrame with the same shape is returned, with NaN's where condition is not met"
   ]
  },
  {
   "cell_type": "markdown",
   "metadata": {},
   "source": [
    "### Setting\n",
    "\n",
    "Combination of selection and setting of values"
   ]
  },
  {
   "cell_type": "code",
   "execution_count": null,
   "metadata": {},
   "outputs": [],
   "source": [
    "# setting values by label (same as by position)\n",
    "df.at[dates[0],'A'] = 0\n",
    "\n",
    "# setting and assigning a numpy array\n",
    "df.loc[:,'D'] = np.array([5] * len(df))\n",
    "\n",
    "# defining a brend new column\n",
    "df['E'] = np.arange(len(df))*0.5\n",
    "\n",
    "# defining a brend new column by means of a pd.Series: indexes must be the same!\n",
    "df['E prime'] = pd.Series(np.arange(len(df))*2, index=df.index)\n"
   ]
  },
  {
   "cell_type": "code",
   "execution_count": null,
   "metadata": {},
   "outputs": [],
   "source": [
    "def dcos(theta):\n",
    "    theta = theta*(np.pi/180)\n",
    "    return np.cos(theta)\n",
    " \n",
    "df['cosine'] = pd.Series(df[\"E\"].apply(dcos), index=df.index)\n",
    "df"
   ]
  },
  {
   "cell_type": "code",
   "execution_count": null,
   "metadata": {},
   "outputs": [],
   "source": [
    "# another example of global setting\n",
    "df2=df.copy() # it's possbile that in pandas using equal means always creating a copy\n",
    "df2[df2>0] = -df2\n",
    "df2"
   ]
  },
  {
   "cell_type": "markdown",
   "metadata": {},
   "source": [
    "### Dropping\n",
    "\n",
    "N.B.: dropping doesn't act permanently on the DataFrame, i.e. to get that do :\n",
    "```python\n",
    "df = df.drop(....)\n",
    "```"
   ]
  },
  {
   "cell_type": "code",
   "execution_count": null,
   "metadata": {},
   "outputs": [],
   "source": [
    "# Dropping by column\n",
    "df.drop(['E prime'], axis=1)\n",
    "\n",
    "#which is equivalent to\n",
    "df.drop(columns=['E prime'])"
   ]
  },
  {
   "cell_type": "code",
   "execution_count": null,
   "metadata": {},
   "outputs": [],
   "source": [
    "# Dropping by raws\n",
    "# safe and always working\n",
    "df.drop(df.index[[1,2,3,4]])"
   ]
  },
  {
   "cell_type": "code",
   "execution_count": null,
   "metadata": {},
   "outputs": [],
   "source": [
    "# something like df.drop('index_name') \n",
    "# would work but the type of index must be specificed, \n",
    "# in particular with DatetimeIndex\n",
    "df.drop(pd.to_datetime(\"2020-11-09 22:45:00\"))"
   ]
  },
  {
   "cell_type": "markdown",
   "metadata": {},
   "source": [
    "## Missing data\n",
    "\n",
    "pandas primarily uses the value np.nan to represent missing data. It is by default not included in computations."
   ]
  },
  {
   "cell_type": "code",
   "execution_count": null,
   "metadata": {},
   "outputs": [],
   "source": [
    "df_wNan = df[df>0]\n",
    "df_wNan"
   ]
  },
  {
   "cell_type": "code",
   "execution_count": null,
   "metadata": {},
   "outputs": [],
   "source": [
    "# dropping raws with at least a Nan\n",
    "df_wNan.dropna(how='any')"
   ]
  },
  {
   "cell_type": "code",
   "execution_count": null,
   "metadata": {},
   "outputs": [],
   "source": [
    "# getting a mask\n",
    "df_wNan.isna()\n",
    "#df_wNan.notna()"
   ]
  },
  {
   "cell_type": "code",
   "execution_count": null,
   "metadata": {},
   "outputs": [],
   "source": [
    "# filling missing data\n",
    "df_wNan.fillna(value=0)"
   ]
  },
  {
   "cell_type": "markdown",
   "metadata": {},
   "source": [
    "Fill gaps forward or backward by propagating non-NA values forward or backward:"
   ]
  },
  {
   "cell_type": "code",
   "execution_count": null,
   "metadata": {},
   "outputs": [],
   "source": [
    "df_wNan.fillna(method='pad')"
   ]
  },
  {
   "cell_type": "markdown",
   "metadata": {},
   "source": [
    "## Operations\n",
    "\n",
    "Here comes the most relevant advantage of DataFrame. Operations on columns are extremly fast, almost as fast as the actual operation between elements in a raw"
   ]
  },
  {
   "cell_type": "code",
   "execution_count": null,
   "metadata": {},
   "outputs": [],
   "source": [
    "# Some statistics (mean() just as an example)\n",
    "# raws\n",
    "print (df.mean(axis=0),'\\n')\n",
    "# columns\n",
    "print (df.mean(axis=1),'\\n')"
   ]
  },
  {
   "cell_type": "code",
   "execution_count": null,
   "metadata": {},
   "outputs": [],
   "source": [
    "# global operations on columns\n",
    "df.apply(np.cumsum)"
   ]
  },
  {
   "cell_type": "code",
   "execution_count": null,
   "metadata": {},
   "outputs": [],
   "source": [
    "df"
   ]
  },
  {
   "cell_type": "code",
   "execution_count": null,
   "metadata": {},
   "outputs": [],
   "source": [
    "df.apply(lambda x: x.max() - x.min())"
   ]
  },
  {
   "cell_type": "code",
   "execution_count": null,
   "metadata": {},
   "outputs": [],
   "source": [
    "# syntax is as usual similar to that of numpy arrays\n",
    "df['A']+df['B']"
   ]
  },
  {
   "cell_type": "markdown",
   "metadata": {},
   "source": [
    "Let's play it hard and load (in memory) a (relatively) large dataset"
   ]
  },
  {
   "cell_type": "code",
   "execution_count": null,
   "metadata": {},
   "outputs": [],
   "source": [
    "# WARNING! link in past notebook was wrong!, (if needed) get the right file from:\n",
    "#!wget https://www.dropbox.com/s/xvjzaxzz3ysphme/data_000637.txt -P ~/data/\n",
    "\n",
    "file_name=\"~/data/data_000637.txt\"\n",
    "data=pd.read_csv(file_name)\n",
    "data"
   ]
  },
  {
   "cell_type": "markdown",
   "metadata": {},
   "source": [
    "Let's now do some operations among (elements of) columns"
   ]
  },
  {
   "cell_type": "code",
   "execution_count": null,
   "metadata": {},
   "outputs": [],
   "source": [
    "# the one-liner killing it all\n",
    "data['timens']=data['TDC_MEAS']*25/30+data['BX_COUNTER']*25"
   ]
  },
  {
   "cell_type": "code",
   "execution_count": null,
   "metadata": {},
   "outputs": [],
   "source": [
    "# the old slooow way\n",
    "def conversion(data):\n",
    "    result=[]\n",
    "    for i in range(len(data)): \n",
    "        result.append(data.loc[data.index[i],'TDC_MEAS']*25/30.+data.loc[data.index[i],'BX_COUNTER']*25)\n",
    "    return result\n",
    "\n",
    "data['timens']=conversion(data)"
   ]
  },
  {
   "cell_type": "markdown",
   "metadata": {},
   "source": [
    "## Merge\n",
    "\n",
    "pandas provides various facilities for easily combining together Series, DataFrame, and Panel objects with various kinds of set logic for the indexes and relational algebra functionality in the case of join / merge-type operations.\n",
    "\n",
    "### Concat\n",
    "\n",
    "concatenation (adding rows) is straightforward\n"
   ]
  },
  {
   "cell_type": "code",
   "execution_count": null,
   "metadata": {},
   "outputs": [],
   "source": [
    "rdf = pd.DataFrame(np.random.randn(10, 4))\n",
    "rdf"
   ]
  },
  {
   "cell_type": "code",
   "execution_count": null,
   "metadata": {},
   "outputs": [],
   "source": [
    "# divide it into pieaces raw-wise\n",
    "pieces = [rdf[:3], rdf[3:7], rdf[7:]]\n",
    "pieces"
   ]
  },
  {
   "cell_type": "code",
   "execution_count": null,
   "metadata": {},
   "outputs": [],
   "source": [
    "# put it back together\n",
    "#pd.concat(pieces)\n",
    "\n",
    "# indexes can be ignored\n",
    "pd.concat(pieces, ignore_index=True)\n",
    "\n",
    "# in case of dimension mismatch, Nan are added where needed"
   ]
  },
  {
   "cell_type": "code",
   "execution_count": null,
   "metadata": {},
   "outputs": [],
   "source": [
    "# appending a single row (as a Series)\n",
    "s = rdf.iloc[3]\n",
    "rdf.append(s, ignore_index=True)\n",
    "rdf"
   ]
  },
  {
   "cell_type": "markdown",
   "metadata": {},
   "source": [
    "### Merge/Join\n",
    "\n",
    "SQL like operations on table can be performed on DataFrames. This is all rather sophisticated, refer to the [doc](https://pandas.pydata.org/pandas-docs/stable/merging.html#merging) for more info/examples"
   ]
  },
  {
   "cell_type": "code",
   "execution_count": null,
   "metadata": {},
   "outputs": [],
   "source": [
    "left = pd.DataFrame({'key': ['foo', 'bar'], 'lval': [1, 2]})\n",
    "right = pd.DataFrame({'key': ['foo', 'bar'], 'rval': [4, 5]})\n",
    "\n",
    "pd.merge(left,right,on=\"key\")"
   ]
  },
  {
   "cell_type": "markdown",
   "metadata": {},
   "source": [
    "## Grouping\n",
    "\n",
    "By “group by” we are referring to a process involving one or more of the following steps:\n",
    "\n",
    "* Splitting the data into groups based on some criteria\n",
    "* Applying a function to each group independently\n",
    "* Combining the results into a data structure\n"
   ]
  },
  {
   "cell_type": "code",
   "execution_count": null,
   "metadata": {},
   "outputs": [],
   "source": [
    "gdf = pd.DataFrame({'A' : ['foo', 'bar', 'foo', 'bar',\n",
    "                          'foo', 'bar', 'foo', 'foo'],\n",
    "                    'B' : ['one', 'one', 'two', 'three',\n",
    "                           'two', 'two', 'one', 'three'],\n",
    "                    'C' : np.random.randn(8),\n",
    "                    'D' : np.random.randn(8)})\n",
    "gdf"
   ]
  },
  {
   "cell_type": "code",
   "execution_count": null,
   "metadata": {},
   "outputs": [],
   "source": [
    "# Grouping and then applying the sum() \n",
    "# function to the resulting groups (effective only where number are there).\n",
    "gdf.groupby('A').sum()"
   ]
  },
  {
   "cell_type": "markdown",
   "metadata": {},
   "source": [
    "## Multi-indexing\n",
    "\n",
    "\n",
    "Hierarchical / Multi-level indexing allows sophisticated data analysis on higher dimensional data. In essence, it enables you to store and manipulate data with an arbitrary number of dimensions in lower dimensional data structures like Series (1d) and DataFrame (2d)."
   ]
  },
  {
   "cell_type": "code",
   "execution_count": null,
   "metadata": {},
   "outputs": [],
   "source": [
    "tuples = list(zip(['bar', 'bar', 'baz', 'baz', 'foo', 'foo', 'qux', 'qux'],\n",
    "          ['one', 'two', 'one', 'two', 'one', 'two', 'one', 'two']))\n",
    "multi_index = pd.MultiIndex.from_tuples(tuples, names=['first', 'second'])\n",
    "print (multi_index,'\\n')\n",
    "\n",
    "s = pd.Series(np.random.randn(8), index=multi_index)\n",
    "print (s)\n"
   ]
  },
  {
   "cell_type": "code",
   "execution_count": null,
   "metadata": {},
   "outputs": [],
   "source": [
    "# it enables further features of the groupby method,\n",
    "# e.g. when group-by by multiple columns\n",
    "gdf.groupby(['A','B']).sum()"
   ]
  },
  {
   "cell_type": "code",
   "execution_count": null,
   "metadata": {},
   "outputs": [],
   "source": [
    "# stack() method “compresses” a level in the DataFrame’s columns\n",
    "gdf.groupby(['A','B']).sum().stack()"
   ]
  },
  {
   "cell_type": "markdown",
   "metadata": {},
   "source": [
    "## Plotting\n",
    "\n",
    "Just a preview, more on the next lab class!"
   ]
  },
  {
   "cell_type": "code",
   "execution_count": null,
   "metadata": {},
   "outputs": [],
   "source": [
    "ts = pd.Series(np.random.randn(1000), index=pd.date_range('1/1/2000', periods=1000))\n",
    "ts.cumsum().plot()"
   ]
  },
  {
   "cell_type": "code",
   "execution_count": null,
   "metadata": {},
   "outputs": [],
   "source": [
    "import matplotlib.pyplot as plt\n",
    "\n",
    "pdf=pd.DataFrame(np.random.randn(1000, 4), index=ts.index,columns=['A', 'B', 'C', 'D'])\n",
    "df = df.cumsum()\n",
    "plt.figure(); df.plot(); plt.legend(loc='best')"
   ]
  },
  {
   "cell_type": "code",
   "execution_count": null,
   "metadata": {},
   "outputs": [],
   "source": []
  }
 ],
 "metadata": {
  "kernelspec": {
   "display_name": "Python 3",
   "language": "python",
   "name": "python3"
  },
  "language_info": {
   "codemirror_mode": {
    "name": "ipython",
    "version": 3
   },
   "file_extension": ".py",
   "mimetype": "text/x-python",
   "name": "python",
   "nbconvert_exporter": "python",
   "pygments_lexer": "ipython3",
   "version": "3.8.5"
  }
 },
 "nbformat": 4,
 "nbformat_minor": 2
}
