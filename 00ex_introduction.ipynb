{
 "cells": [
  {
   "cell_type": "markdown",
   "metadata": {},
   "source": [
    "1. The MickeyMouse problem\n",
    "\n",
    "a) Write a program that prints the numbers from 1 to 100. But for multiples of three print Mickey instead of the number and for the multiples of five print Mouse. For numbers which are multiples of both three and five print MickeyMouse\n",
    "\n",
    "b) Put the result in a tuple and substitute Mickey with Donald and Mouse with Duck"
   ]
  },
  {
   "cell_type": "code",
   "execution_count": 2,
   "metadata": {},
   "outputs": [],
   "source": [
    "#a list of numbers can be made using the range built in function\n",
    "numbers = range(1,100)\n",
    "lista = list()"
   ]
  },
  {
   "cell_type": "code",
   "execution_count": 3,
   "metadata": {
    "scrolled": true
   },
   "outputs": [
    {
     "name": "stdout",
     "output_type": "stream",
     "text": [
      "[1, 2, 'Mickey', 4, 'Mouse', 'Mickey', 7, 8, 'Mickey', 'Mouse', 11, 'Mickey', 13, 14, 'MickeyMouse', 16, 17, 'Mickey', 19, 'Mouse', 'Mickey', 22, 23, 'Mickey', 'Mouse', 26, 'Mickey', 28, 29, 'MickeyMouse', 31, 32, 'Mickey', 34, 'Mouse', 'Mickey', 37, 38, 'Mickey', 'Mouse', 41, 'Mickey', 43, 44, 'MickeyMouse', 46, 47, 'Mickey', 49, 'Mouse', 'Mickey', 52, 53, 'Mickey', 'Mouse', 56, 'Mickey', 58, 59, 'MickeyMouse', 61, 62, 'Mickey', 64, 'Mouse', 'Mickey', 67, 68, 'Mickey', 'Mouse', 71, 'Mickey', 73, 74, 'MickeyMouse', 76, 77, 'Mickey', 79, 'Mouse', 'Mickey', 82, 83, 'Mickey', 'Mouse', 86, 'Mickey', 88, 89, 'MickeyMouse', 91, 92, 'Mickey', 94, 'Mouse', 'Mickey', 97, 98, 'Mickey']\n"
     ]
    }
   ],
   "source": [
    "#here is the program about list comprehension and working on list of numbers from one to 100\n",
    "#it's necessary to select multiples of three, multiple of five, and multiple of both 3 and 5\n",
    "for x in numbers:\n",
    "    if x % 3 == 0 :\n",
    "        if x % 5 == 0 : lista.append(\"MickeyMouse\")\n",
    "        else: lista.append(\"Mickey\")\n",
    "    \n",
    "    elif x % 5 == 0 : lista.append(\"Mouse\")\n",
    "    else : lista.append(x)\n",
    "print(lista)      \n",
    "    \n"
   ]
  },
  {
   "cell_type": "code",
   "execution_count": 4,
   "metadata": {},
   "outputs": [
    {
     "name": "stdout",
     "output_type": "stream",
     "text": [
      "[1, 2, 'Donald', 4, 'Duck', 'Donald', 7, 8, 'Donald', 'Duck', 11, 'Donald', 13, 14, 'MickeyMouse', 16, 17, 'Donald', 19, 'Duck', 'Donald', 22, 23, 'Donald', 'Duck', 26, 'Donald', 28, 29, 'MickeyMouse', 31, 32, 'Donald', 34, 'Duck', 'Donald', 37, 38, 'Donald', 'Duck', 41, 'Donald', 43, 44, 'MickeyMouse', 46, 47, 'Donald', 49, 'Duck', 'Donald', 52, 53, 'Donald', 'Duck', 56, 'Donald', 58, 59, 'MickeyMouse', 61, 62, 'Donald', 64, 'Duck', 'Donald', 67, 68, 'Donald', 'Duck', 71, 'Donald', 73, 74, 'MickeyMouse', 76, 77, 'Donald', 79, 'Duck', 'Donald', 82, 83, 'Donald', 'Duck', 86, 'Donald', 88, 89, 'MickeyMouse', 91, 92, 'Donald', 94, 'Duck', 'Donald', 97, 98, 'Donald']\n"
     ]
    }
   ],
   "source": [
    "y = [\"Donald\" if w == \"Mickey\" else \"Duck\" if w == \"Mouse\" else w for w in lista] #it was necessary to put the last else to complete the list with the other numbers\n",
    "print(y)\n",
    "y = tuple(lista) #casting y from list into tuple\n",
    "#change Mickey-->Donald and Mouse-->Duck. It's necessary to do this process before casting the list into a tuple\n",
    "#because the latter is unmutable"
   ]
  },
  {
   "cell_type": "markdown",
   "metadata": {},
   "source": [
    "2\\. The swap function\n",
    "\n",
    "Write a function that swap the values of two input variables x and y (whatever the type). Try to do that also without a temporary variable"
   ]
  },
  {
   "cell_type": "code",
   "execution_count": 11,
   "metadata": {},
   "outputs": [
    {
     "name": "stdout",
     "output_type": "stream",
     "text": [
      "entering two variables : 1 2\n",
      "('2', '1')\n"
     ]
    }
   ],
   "source": [
    "#this function can  have as return simply the swapped variables\n",
    "a, b = input(\"entering two variables : \").split() #split wants as input two values separated by a space\n",
    "def swap(a,b):\n",
    "    return (b,a)\n",
    "\n",
    "print(swap(a,b))"
   ]
  },
  {
   "cell_type": "markdown",
   "metadata": {},
   "source": [
    "3\\. Computing the distance\n",
    "\n",
    "Write a function that calculates and returns the euclidean distance between two points *u* and *v*, where *u* and *v* are both 2-tuples *(x,y)*. For example, if *u=(3,0)* and *v=(0,4)*, the function should return 5"
   ]
  },
  {
   "cell_type": "code",
   "execution_count": 10,
   "metadata": {},
   "outputs": [
    {
     "name": "stdout",
     "output_type": "stream",
     "text": [
      "5.0\n"
     ]
    }
   ],
   "source": [
    "u, v = ((3,0), (0,4))\n",
    "#actually i can set each point through input(\"\")\n",
    "def distance(u,v):\n",
    "    d = pow(pow((u[0]-v[0]),2)+(pow((u[1]-v[1]),2)),1/2)\n",
    "    return d\n",
    "print(distance(u,v))\n"
   ]
  },
  {
   "cell_type": "markdown",
   "metadata": {},
   "source": [
    "4\\. Counting letters\n",
    "\n",
    "Write a program to calculate the number of times each character occurs in a given string *s*. Ignore differneces in capitalization"
   ]
  },
  {
   "cell_type": "code",
   "execution_count": 8,
   "metadata": {},
   "outputs": [
    {
     "name": "stdout",
     "output_type": "stream",
     "text": [
      "{'write': 1, 'a': 1, 'program': 1, 'that': 1, 'prints': 1, 'the': 3, 'numbers': 2, 'from': 1, '1': 1, 'to': 1, '100.': 1, 'but': 1, 'for': 3, 'multiples': 3, 'of': 4, 'three': 2, 'print': 3, 'mickey': 1, 'instead': 1, 'number': 1, 'and': 2, 'five': 2, 'mouse.': 1, 'which': 1, 'are': 1, 'both': 1, 'mickeymouse': 1}\n"
     ]
    }
   ],
   "source": [
    "s=\"Write a program that prints the numbers from 1 to 100. \\\n",
    "But for multiples of three print Mickey instead of the number and for the multiples of five print Mouse. \\\n",
    "For numbers which are multiples of both three and five print MickeyMouse\"\n",
    "#i think i should use a dictionary to keep track of times a given character occurs in the text\n",
    "dic = {}\n",
    "#the method .split() will divide the string type object into different words so i can put them as keys in a dictionary\n",
    "#lower to ignore differences in capitalization\n",
    "s = s.lower().split()\n",
    "#create the dictionary of the different words in the list s\n",
    "for word in s:\n",
    "    dic[word] = dic.get(word,0)+1 #in dic[word] i'm adding a value to the word key of dictionary \n",
    "    #the get method returs the value for a given key but the second argument prints what it's written there if the key does\n",
    "    #not exist in the dictionary, here is zero when the new key is added in the dictionary and it's incremented by one when\n",
    "    #already exists\n",
    "print(dic)"
   ]
  },
  {
   "cell_type": "markdown",
   "metadata": {},
   "source": [
    "5\\. Isolating the unique\n",
    "\n",
    "Write a function that determines and count the unique numbers in the list *l*"
   ]
  },
  {
   "cell_type": "code",
   "execution_count": 15,
   "metadata": {},
   "outputs": [
    {
     "name": "stdout",
     "output_type": "stream",
     "text": [
      "unique numbers are: 37 \n",
      "the list of unique numbers is [58, 74, 96, 64, 10, 24, 19, 33, 86, 99, 18, 47, 88, 55, 54, 8, 79, 81, 57, 37, 1, 9, 95, 90, 98, 39, 16, 82, 92, 41, 30, 94, 5, 72, 87, 75, 53]\n"
     ]
    }
   ],
   "source": [
    "l = [36, 45, 58, 3, 74, 96, 64, 45, 31, 10, 24, 19, 33, 86, 99, 18, 63, 70, 85,\n",
    " 85, 63, 47, 56, 42, 70, 84, 88, 55, 20, 54, 8, 56, 51, 79, 81, 57, 37, 91,\n",
    " 1, 84, 84, 36, 66, 9, 89, 50, 42, 91, 50, 95, 90, 98, 39, 16, 82, 31, 92, 41,\n",
    " 45, 30, 66, 70, 34, 85, 94, 5, 3, 36, 72, 91, 84, 34, 87, 75, 53, 51, 20, 89, 51, 20]\n",
    "#to determine the uniqueness of a number i'm using the same script as before and put into a list (with list comprehension) \n",
    "#keys from the dictionary whose values are one\n",
    "dic_1 = {}\n",
    "for number in l:\n",
    "    dic_1[number] = dic_1.get(number,0)+1\n",
    "l_1 = [n for n,m in dic_1.items() if m == 1]\n",
    "print(\"Unique numbers are:\",len(l_1),\"\\nthe list of unique numbers is\", l_1)"
   ]
  },
  {
   "cell_type": "markdown",
   "metadata": {},
   "source": [
    "6\\. Combination of functions\n",
    "\n",
    "Write two functions - one that returns the square of a number, and one that returns the cube. Now write a third function that returns the number raised to the 6th power using the two previous functions."
   ]
  },
  {
   "cell_type": "code",
   "execution_count": 18,
   "metadata": {},
   "outputs": [
    {
     "name": "stdout",
     "output_type": "stream",
     "text": [
      "3^3 is: 729\n"
     ]
    }
   ],
   "source": [
    "def power_two(x):\n",
    "    return x**2\n",
    "def power_three(x):\n",
    "    return x**3\n",
    "def power_nest(x):\n",
    "    return power_three(power_two(x))\n",
    "x = 3\n",
    "print(\"3^3 is:\",power_nest(x))"
   ]
  },
  {
   "cell_type": "markdown",
   "metadata": {},
   "source": [
    "7\\. Cubes\n",
    "\n",
    "Create a list of the cubes of x for x in *[0, 10]* using:\n",
    "\n",
    "a) a for loop\n",
    "\n",
    "b) a list comprehension"
   ]
  },
  {
   "cell_type": "code",
   "execution_count": 4,
   "metadata": {},
   "outputs": [
    {
     "name": "stdout",
     "output_type": "stream",
     "text": [
      "[0, 1, 8, 27, 64, 125, 216, 343, 512, 729, 1000]\n",
      "[0, 1, 8, 27, 64, 125, 216, 343, 512, 729, 1000]\n"
     ]
    }
   ],
   "source": [
    "cubes = list()\n",
    "for x in range(11):\n",
    "    cubes.append(x**3)\n",
    "print(cubes)\n",
    "\n",
    "cubes_1 = [x**3 for x in range(11)]\n",
    "print(cubes_1)"
   ]
  },
  {
   "cell_type": "markdown",
   "metadata": {},
   "source": [
    "8\\. Nested list comprehension\n",
    "\n",
    "A Pythagorean triple is an integer solution to the Pythagorean theorem $a^2+b^2=c^2$. The first Pythagorean triple is (3,4,5). Find and put in a tuple all unique Pythagorean triples for the positive integers a, b and c less than 100."
   ]
  },
  {
   "cell_type": "code",
   "execution_count": 24,
   "metadata": {},
   "outputs": [
    {
     "name": "stdout",
     "output_type": "stream",
     "text": [
      "[(3, 4, 5), (5, 12, 13), (6, 8, 10), (7, 24, 25), (8, 15, 17), (9, 12, 15), (9, 40, 41), (10, 24, 26), (11, 60, 61), (12, 16, 20), (12, 35, 37), (13, 84, 85), (14, 48, 50), (15, 20, 25), (15, 36, 39), (16, 30, 34), (16, 63, 65), (18, 24, 30), (18, 80, 82), (20, 21, 29), (20, 48, 52), (21, 28, 35), (21, 72, 75), (24, 32, 40), (24, 45, 51), (24, 70, 74), (25, 60, 65), (27, 36, 45), (28, 45, 53), (30, 40, 50), (30, 72, 78), (32, 60, 68), (33, 44, 55), (33, 56, 65), (35, 84, 91), (36, 48, 60), (36, 77, 85), (39, 52, 65), (39, 80, 89), (40, 42, 58), (40, 75, 85), (42, 56, 70), (45, 60, 75), (48, 55, 73), (48, 64, 80), (51, 68, 85), (54, 72, 90), (57, 76, 95), (60, 63, 87), (65, 72, 97)]\n"
     ]
    }
   ],
   "source": [
    "triple = list()\n",
    "for a in range(1,100):\n",
    "    for b in range(1,100):\n",
    "        for c in range(1,100):\n",
    "            if a**2+b**2 == c**2:\n",
    "                triple_dummy = tuple(sorted((a,b,c)))\n",
    "                if triple_dummy not in triple: triple.append(triple_dummy)\n",
    "print(triple)"
   ]
  },
  {
   "cell_type": "markdown",
   "metadata": {},
   "source": [
    "9\\. Normalization\n",
    "\n",
    "Write a function that takes a tuple of numbers and returns it with the entries normalized to one"
   ]
  },
  {
   "cell_type": "code",
   "execution_count": 26,
   "metadata": {},
   "outputs": [
    {
     "name": "stdout",
     "output_type": "stream",
     "text": [
      "scrivi un vettore di tre componenti con tre spazi \n",
      "2 3 4\n",
      "(0.7559289460184544, 1.1338934190276817, 1.5118578920369088)\n"
     ]
    }
   ],
   "source": [
    "#this function has to be generical for each kind of tuple in input \n",
    "from numpy import sqrt\n",
    "\n",
    "def normal(v):\n",
    "    norm = sqrt(sum([x^2 for x in v]))\n",
    "    return tuple([x/norm for x in v])\n",
    "v = input(\"scrivi un vettore di tre componenti con tre spazi \\n\").split() \n",
    "v = [int(x) for x in v]\n",
    "#così costruisco direttamente una lista \n",
    "#ma devo castare gli elementi della lista ad interi ad esempio per poter usare le operazioni come \"^\"\n",
    "print(normal(v))"
   ]
  },
  {
   "cell_type": "code",
   "execution_count": null,
   "metadata": {},
   "outputs": [],
   "source": []
  }
 ],
 "metadata": {
  "kernelspec": {
   "display_name": "Python 3",
   "language": "python",
   "name": "python3"
  },
  "language_info": {
   "codemirror_mode": {
    "name": "ipython",
    "version": 3
   },
   "file_extension": ".py",
   "mimetype": "text/x-python",
   "name": "python",
   "nbconvert_exporter": "python",
   "pygments_lexer": "ipython3",
   "version": "3.9.0"
  }
 },
 "nbformat": 4,
 "nbformat_minor": 2
}
