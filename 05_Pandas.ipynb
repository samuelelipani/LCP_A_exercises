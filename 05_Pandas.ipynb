{
 "cells": [
  {
   "cell_type": "markdown",
   "metadata": {},
   "source": [
    "# Pandas\n",
    "\n",
    "The `numpy` module is excellent for numerical computations, but to handle missing data or arrays with mixed types takes more work. The `pandas` module is currently the most widely used tool for data manipulation, providing high-performance, easy-to-use data structures and advanced data analysis tools.\n",
    "\n",
    "In particular `pandas` features:\n",
    "\n",
    "* A fast and efficient \"DataFrame\" object for data manipulation with integrated indexing;\n",
    "* Tools for reading and writing data between in-memory data structures and different formats (CSV, Excel, SQL, HDF5);\n",
    "* Intelligent data alignment and integrated handling of missing data;\n",
    "* Intelligent label-based slicing, fancy indexing, and subsetting of large data sets;\n",
    "* Aggregating or transforming data with a powerful \"group-by\" engine; \n",
    "* High performance merging and joining of data sets;\n",
    "* Hierarchical axis indexing provides an intuitive way of working with high-dimensional data in a lower-dimensional data structure;\n",
    "* Time series-functionalities;\n",
    "* Highly optimized for performance, with critical code paths written in Cython or C.\n"
   ]
  },
  {
   "cell_type": "code",
   "execution_count": 2,
   "metadata": {},
   "outputs": [],
   "source": [
    "import pandas as pd\n",
    "import numpy as np"
   ]
  },
  {
   "cell_type": "markdown",
   "metadata": {},
   "source": [
    "## Series\n",
    "\n",
    "Series are completely equivalent to 1D array but with axis labels and the possibility to store heterogeneous elements. Of paramount importance are the time-series, used to define time evolutions of a phenomenon. \n"
   ]
  },
  {
   "cell_type": "markdown",
   "metadata": {},
   "source": [
    "They come before the dataframe. It can be seen as a table. On the top the features of the variables labelled and also rows can be labelled. A single coloumns can be seen as a series. It's a generalization of numpy array, in the sense they do have an index, we can actually also label the index (for example time). Series form the data frame.\n",
    "They are similar to a dictionary!! we can access to the value of a dic with square brackets giving them the \"keys\""
   ]
  },
  {
   "cell_type": "code",
   "execution_count": 4,
   "metadata": {},
   "outputs": [
    {
     "output_type": "stream",
     "name": "stdout",
     "text": [
      "xs: a    0.0\nb    0.5\nc    1.0\nd    1.5\ne    2.0\nf    2.5\ng    3.0\nh    3.5\ni    4.0\nj    4.5\ndtype: float64 \n\nxs indexes: Index(['a', 'b', 'c', 'd', 'e', 'f', 'g', 'h', 'i', 'j'], dtype='object') \n\nxs values: [0.  0.5 1.  1.5 2.  2.5 3.  3.5 4.  4.5] <class 'numpy.ndarray'> \n\n2.5 2.5 3.5 \n\nd    1.5\nf    2.5\nh    3.5\ndtype: float64 \n\n<class 'pandas.core.series.Series'> \n\n"
     ]
    }
   ],
   "source": [
    "from string import ascii_lowercase as letters\n",
    "\n",
    "# Creating a series, accessing indexes, values and values by their index \n",
    "xs = pd.Series(np.arange(10)*0.5, index=tuple(letters[:10]))\n",
    "print (\"xs:\",xs,'\\n')\n",
    "print (\"xs indexes:\",xs.index,'\\n')\n",
    "# Values of the Series are actually a numpy array\n",
    "print (\"xs values:\", xs.values, type(xs.values),'\\n')\n",
    "print (xs['f'], xs.f, xs.h, '\\n')\n",
    "print (xs[['d', 'f', 'h']], '\\n')\n",
    "print (type(xs[['d', 'f', 'h']]), '\\n')"
   ]
  },
  {
   "cell_type": "code",
   "execution_count": 5,
   "metadata": {},
   "outputs": [
    {
     "output_type": "stream",
     "name": "stdout",
     "text": [
      "a    0.0\nb    0.5\nc    1.0\ndtype: float64 \n\nh    3.5\ni    4.0\nj    4.5\ndtype: float64 \n\na    0.0\nd    1.5\ng    3.0\nj    4.5\ndtype: float64 \n\nh    3.5\ni    4.0\nj    4.5\ndtype: float64 \n\na     1.000000\nb     1.648721\nc     2.718282\nd     4.481689\ne     7.389056\nf    12.182494\ng    20.085537\nh    33.115452\ni    54.598150\nj    90.017131\ndtype: float64 \n\n2.25 1.4361406616345072 \n\n"
     ]
    }
   ],
   "source": [
    "# Extracting elements and operations: same as numpy array but we can actually have whatever we want in a series not only numbers\n",
    "print (xs[:3],'\\n')\n",
    "print (xs[7:], '\\n')\n",
    "print (xs[::3], '\\n')\n",
    "print (xs[xs>3], '\\n') # masks\n",
    "print (np.exp(xs), '\\n') # operations element wise for numbers \n",
    "print (np.mean(xs), np.std(xs), '\\n')"
   ]
  },
  {
   "cell_type": "code",
   "execution_count": 6,
   "metadata": {},
   "outputs": [
    {
     "output_type": "execute_result",
     "data": {
      "text/plain": [
       "b         1\n",
       "a       cat\n",
       "c    [2, 3]\n",
       "dtype: object"
      ]
     },
     "metadata": {},
     "execution_count": 6
    }
   ],
   "source": [
    "# Series can be created from python dictionary too.\n",
    "# here the key is called index \n",
    "# Notice that the elements can be whatever! (integers, string and a list)\n",
    "d = {'b' : 1, 'a' : 'cat', 'c' : [2,3]}\n",
    "pd.Series(d)"
   ]
  },
  {
   "cell_type": "markdown",
   "metadata": {},
   "source": [
    "A key difference between Series and ndarray is that operations between Series automatically align the data based on label. Thus, you can write computations without considering whether the Series involved have the same labels."
   ]
  },
  {
   "cell_type": "code",
   "execution_count": 7,
   "metadata": {},
   "outputs": [
    {
     "output_type": "stream",
     "name": "stdout",
     "text": [
      "a    0.266055\nb   -1.415943\nc   -1.458686\nd   -0.454867\ne   -1.816022\ndtype: float64\na         NaN\nb   -2.831885\nc   -2.917373\nd   -0.909734\ne         NaN\ndtype: float64\n"
     ]
    }
   ],
   "source": [
    "s = pd.Series(np.random.randn(5), index=tuple(letters[:5]))\n",
    "print(s)\n",
    "s = s[1:] + s[:-1]\n",
    "print(s)"
   ]
  },
  {
   "cell_type": "markdown",
   "metadata": {},
   "source": [
    "### Time series\n",
    "\n",
    "Time series are very often used to profile the behaviour of a quantity as a function of time. Pandas as a special index for that, `DatetimeIndex`, that can be created e.g. with the function `pd.data_range()`"
   ]
  },
  {
   "cell_type": "code",
   "execution_count": 8,
   "metadata": {},
   "outputs": [
    {
     "output_type": "stream",
     "name": "stdout",
     "text": [
      "2020-11-11\n2020-11-09 14:45:10.000015\n9/11/2020 14:45:00\nDatetimeIndex(['2020-09-11 14:45:00', '2020-09-12 14:45:00',\n               '2020-09-13 14:45:00', '2020-09-14 14:45:00',\n               '2020-09-15 14:45:00', '2020-09-16 14:45:00',\n               '2020-09-17 14:45:00'],\n              dtype='datetime64[ns]', freq='D')\nDatetimeIndex(['2020-09-11 14:45:00', '2020-09-11 14:45:01',\n               '2020-09-11 14:45:02', '2020-09-11 14:45:03',\n               '2020-09-11 14:45:04', '2020-09-11 14:45:05',\n               '2020-09-11 14:45:06', '2020-09-11 14:45:07',\n               '2020-09-11 14:45:08', '2020-09-11 14:45:09',\n               ...\n               '2020-09-11 15:44:50', '2020-09-11 15:44:51',\n               '2020-09-11 15:44:52', '2020-09-11 15:44:53',\n               '2020-09-11 15:44:54', '2020-09-11 15:44:55',\n               '2020-09-11 15:44:56', '2020-09-11 15:44:57',\n               '2020-09-11 15:44:58', '2020-09-11 15:44:59'],\n              dtype='datetime64[ns]', length=3600, freq='S')\n"
     ]
    }
   ],
   "source": [
    "# to define a date, the datetime module is very useful\n",
    "import datetime as dt\n",
    "date = dt.date.today()\n",
    "print(date)\n",
    "\n",
    "date = dt.datetime(2020,11,9,14,45,10,15)\n",
    "print (date)\n",
    "\n",
    "# otherwise, several notations are interpreted too\n",
    "date = 'Nov 9 2020'\n",
    "# or alternatively\n",
    "date = '9/11/2020 14:45:00'\n",
    "print (date)\n",
    "\n",
    "days = pd.date_range(date, periods=7, freq='D')\n",
    "print (days)\n",
    "\n",
    "seconds = pd.date_range(date, periods=3600, freq='s')\n",
    "print (seconds)\n"
   ]
  },
  {
   "cell_type": "markdown",
   "metadata": {},
   "source": [
    "To learn more about the frequency strings, please see this [link](http://pandas.pydata.org/pandas-docs/stable/timeseries.html#offset-aliases)\n",
    "\n",
    "\n",
    "Timestamped data is the most basic type of time series data that associates values with points in time. For pandas objects it means using the points in time.\n",
    "\n",
    "functions like `pd.to_datetime` can be used, for instance, when reading information as string from a dataset"
   ]
  },
  {
   "cell_type": "code",
   "execution_count": 9,
   "metadata": {},
   "outputs": [
    {
     "output_type": "stream",
     "name": "stdout",
     "text": [
      "1604880000000000000\n<class 'pandas._libs.tslibs.timestamps.Timestamp'>\n2010-11-12 00:00:00\n2010-11-12 00:00:00\n1289520000000000000\n"
     ]
    }
   ],
   "source": [
    "tstamp = pd.Timestamp(dt.datetime(2020, 11, 9))\n",
    "\n",
    "# internally it counts the nanoseconds from January 1st 19\n",
    "#tstamp = pd.Timestamp(dt.datetime(1970, 1, 1, 0, 0, 0, 1))\n",
    "print(tstamp.value)\n",
    "\n",
    "# when creating a timestamp the format can be explicitly passed\n",
    "ts = pd.to_datetime('2010/11/12', format='%Y/%m/%d')\n",
    "print (type(ts))\n",
    "print (ts)\n",
    "ts = pd.to_datetime('12-11-2010 00:00', format='%d-%m-%Y %H:%M')\n",
    "print (ts)\n",
    "print (ts.value)\n",
    "\n"
   ]
  },
  {
   "cell_type": "markdown",
   "metadata": {},
   "source": [
    "A standard series can be created and (range of) elements can be used as indexes"
   ]
  },
  {
   "cell_type": "code",
   "execution_count": 10,
   "metadata": {
    "scrolled": true
   },
   "outputs": [
    {
     "output_type": "stream",
     "name": "stdout",
     "text": [
      "2020-09-11 14:45:00    10.591643\n2020-09-12 14:45:00    10.927009\n2020-09-13 14:45:00     9.209564\n2020-09-14 14:45:00     9.948298\nFreq: D, dtype: float64 \n\nSeries([], Freq: D, dtype: float64) \n\n"
     ]
    }
   ],
   "source": [
    "tseries = pd.Series(np.random.normal(10, 1, len(days)), index=days)\n",
    "# Extracting elements\n",
    "print (tseries[0:4], '\\n')\n",
    "print (tseries['2020-11-9':'2020-11-11'], '\\n') # Note - includes end time\n"
   ]
  },
  {
   "cell_type": "markdown",
   "metadata": {},
   "source": [
    "`pd.to_datetime` can also be used to create a `DatetimeIndex`:"
   ]
  },
  {
   "cell_type": "code",
   "execution_count": 11,
   "metadata": {},
   "outputs": [
    {
     "output_type": "execute_result",
     "data": {
      "text/plain": [
       "DatetimeIndex(['1980-02-04', '1980-02-05', '1980-02-06', '1980-02-07'], dtype='datetime64[ns]', freq=None)"
      ]
     },
     "metadata": {},
     "execution_count": 11
    }
   ],
   "source": [
    "pd.to_datetime([1, 2, 3, 4], unit='D', origin=pd.Timestamp('1980-02-03'))"
   ]
  },
  {
   "cell_type": "markdown",
   "metadata": {},
   "source": [
    "## DataFrame\n",
    "\n",
    "A pandas DataFrame is like a simple tabular spreadsheet. For future reference (or for people already familiar with R), a pandas DataFrame is very similar to the R DataFrame.\n",
    "\n",
    "Each column in a DataFrame is a Series object.\n",
    "\n",
    "The element can be whatever, missing data are dealt with too (as NaN)"
   ]
  },
  {
   "cell_type": "markdown",
   "metadata": {},
   "source": [
    "### DataFrame creation\n",
    "\n",
    "A DataFrame can be created implicitly, with, e.g., a DatatimeIndex object as index:"
   ]
  },
  {
   "cell_type": "markdown",
   "metadata": {},
   "source": [
    "Indexes can be in machine learning talking about binary classification labels, outputs of our data samples"
   ]
  },
  {
   "cell_type": "code",
   "execution_count": 12,
   "metadata": {},
   "outputs": [
    {
     "output_type": "display_data",
     "data": {
      "text/plain": "                            A         B         C         D\n2020-11-09 14:45:00 -0.867170 -1.765910 -1.351170  0.164828\n2020-11-09 15:45:00 -0.117924  0.258958 -0.831110  0.594924\n2020-11-09 16:45:00 -1.355986 -0.132210 -0.183986 -0.742146\n2020-11-09 17:45:00 -0.258738  0.483904  0.618442  0.652885\n2020-11-09 18:45:00  1.256447  0.144350 -1.362652  0.523115\n2020-11-09 19:45:00  0.866392 -0.266200 -2.183849  2.375426\n2020-11-09 20:45:00  1.035704  0.813862  1.363713  1.740535\n2020-11-09 21:45:00  0.725728 -1.208190 -0.697565  0.766427\n2020-11-09 22:45:00 -0.817008  0.823901 -1.151997 -0.965616\n2020-11-09 23:45:00  0.495230  0.221742  0.537096  0.416862",
      "text/html": "<div>\n<style scoped>\n    .dataframe tbody tr th:only-of-type {\n        vertical-align: middle;\n    }\n\n    .dataframe tbody tr th {\n        vertical-align: top;\n    }\n\n    .dataframe thead th {\n        text-align: right;\n    }\n</style>\n<table border=\"1\" class=\"dataframe\">\n  <thead>\n    <tr style=\"text-align: right;\">\n      <th></th>\n      <th>A</th>\n      <th>B</th>\n      <th>C</th>\n      <th>D</th>\n    </tr>\n  </thead>\n  <tbody>\n    <tr>\n      <th>2020-11-09 14:45:00</th>\n      <td>-0.867170</td>\n      <td>-1.765910</td>\n      <td>-1.351170</td>\n      <td>0.164828</td>\n    </tr>\n    <tr>\n      <th>2020-11-09 15:45:00</th>\n      <td>-0.117924</td>\n      <td>0.258958</td>\n      <td>-0.831110</td>\n      <td>0.594924</td>\n    </tr>\n    <tr>\n      <th>2020-11-09 16:45:00</th>\n      <td>-1.355986</td>\n      <td>-0.132210</td>\n      <td>-0.183986</td>\n      <td>-0.742146</td>\n    </tr>\n    <tr>\n      <th>2020-11-09 17:45:00</th>\n      <td>-0.258738</td>\n      <td>0.483904</td>\n      <td>0.618442</td>\n      <td>0.652885</td>\n    </tr>\n    <tr>\n      <th>2020-11-09 18:45:00</th>\n      <td>1.256447</td>\n      <td>0.144350</td>\n      <td>-1.362652</td>\n      <td>0.523115</td>\n    </tr>\n    <tr>\n      <th>2020-11-09 19:45:00</th>\n      <td>0.866392</td>\n      <td>-0.266200</td>\n      <td>-2.183849</td>\n      <td>2.375426</td>\n    </tr>\n    <tr>\n      <th>2020-11-09 20:45:00</th>\n      <td>1.035704</td>\n      <td>0.813862</td>\n      <td>1.363713</td>\n      <td>1.740535</td>\n    </tr>\n    <tr>\n      <th>2020-11-09 21:45:00</th>\n      <td>0.725728</td>\n      <td>-1.208190</td>\n      <td>-0.697565</td>\n      <td>0.766427</td>\n    </tr>\n    <tr>\n      <th>2020-11-09 22:45:00</th>\n      <td>-0.817008</td>\n      <td>0.823901</td>\n      <td>-1.151997</td>\n      <td>-0.965616</td>\n    </tr>\n    <tr>\n      <th>2020-11-09 23:45:00</th>\n      <td>0.495230</td>\n      <td>0.221742</td>\n      <td>0.537096</td>\n      <td>0.416862</td>\n    </tr>\n  </tbody>\n</table>\n</div>"
     },
     "metadata": {}
    }
   ],
   "source": [
    "entries=10\n",
    "dates=pd.date_range('11/9/2020 14:45:00',freq='h', periods=entries)\n",
    "df = pd.DataFrame(np.random.randn(entries,4), index=dates, columns=['A','B','C','D'])\n",
    "display(df) # is the way displaying a data frame in pandas"
   ]
  },
  {
   "cell_type": "markdown",
   "metadata": {},
   "source": [
    "or by means of a dictionary:\n"
   ]
  },
  {
   "cell_type": "code",
   "execution_count": null,
   "metadata": {},
   "outputs": [],
   "source": [
    "df2 = pd.DataFrame(\n",
    "    { 'A' : 1.,\n",
    "      'B' : pd.Timestamp('20130102'),\n",
    "      'C' : pd.Series(1,index=range(4),dtype='float32'),\n",
    "      'D' : np.arange(7,11),\n",
    "      'E' : pd.Categorical([\"test\",\"train\",\"test\",\"train\"]),\n",
    "    }\n",
    "    )\n",
    "df2"
   ]
  },
  {
   "cell_type": "markdown",
   "metadata": {},
   "source": [
    "### Viewing Data"
   ]
  },
  {
   "cell_type": "code",
   "execution_count": 14,
   "metadata": {},
   "outputs": [
    {
     "output_type": "execute_result",
     "data": {
      "text/plain": [
       "                            A         B         C         D\n",
       "2020-11-09 14:45:00 -0.867170 -1.765910 -1.351170  0.164828\n",
       "2020-11-09 15:45:00 -0.117924  0.258958 -0.831110  0.594924\n",
       "2020-11-09 16:45:00 -1.355986 -0.132210 -0.183986 -0.742146\n",
       "2020-11-09 17:45:00 -0.258738  0.483904  0.618442  0.652885\n",
       "2020-11-09 18:45:00  1.256447  0.144350 -1.362652  0.523115"
      ],
      "text/html": "<div>\n<style scoped>\n    .dataframe tbody tr th:only-of-type {\n        vertical-align: middle;\n    }\n\n    .dataframe tbody tr th {\n        vertical-align: top;\n    }\n\n    .dataframe thead th {\n        text-align: right;\n    }\n</style>\n<table border=\"1\" class=\"dataframe\">\n  <thead>\n    <tr style=\"text-align: right;\">\n      <th></th>\n      <th>A</th>\n      <th>B</th>\n      <th>C</th>\n      <th>D</th>\n    </tr>\n  </thead>\n  <tbody>\n    <tr>\n      <th>2020-11-09 14:45:00</th>\n      <td>-0.867170</td>\n      <td>-1.765910</td>\n      <td>-1.351170</td>\n      <td>0.164828</td>\n    </tr>\n    <tr>\n      <th>2020-11-09 15:45:00</th>\n      <td>-0.117924</td>\n      <td>0.258958</td>\n      <td>-0.831110</td>\n      <td>0.594924</td>\n    </tr>\n    <tr>\n      <th>2020-11-09 16:45:00</th>\n      <td>-1.355986</td>\n      <td>-0.132210</td>\n      <td>-0.183986</td>\n      <td>-0.742146</td>\n    </tr>\n    <tr>\n      <th>2020-11-09 17:45:00</th>\n      <td>-0.258738</td>\n      <td>0.483904</td>\n      <td>0.618442</td>\n      <td>0.652885</td>\n    </tr>\n    <tr>\n      <th>2020-11-09 18:45:00</th>\n      <td>1.256447</td>\n      <td>0.144350</td>\n      <td>-1.362652</td>\n      <td>0.523115</td>\n    </tr>\n  </tbody>\n</table>\n</div>"
     },
     "metadata": {},
     "execution_count": 14
    }
   ],
   "source": [
    "df.head()"
   ]
  },
  {
   "cell_type": "code",
   "execution_count": null,
   "metadata": {},
   "outputs": [],
   "source": [
    "df.tail(4)"
   ]
  },
  {
   "cell_type": "code",
   "execution_count": 13,
   "metadata": {},
   "outputs": [
    {
     "output_type": "execute_result",
     "data": {
      "text/plain": [
       "DatetimeIndex(['2020-11-09 14:45:00', '2020-11-09 15:45:00',\n",
       "               '2020-11-09 16:45:00', '2020-11-09 17:45:00',\n",
       "               '2020-11-09 18:45:00', '2020-11-09 19:45:00',\n",
       "               '2020-11-09 20:45:00', '2020-11-09 21:45:00',\n",
       "               '2020-11-09 22:45:00', '2020-11-09 23:45:00'],\n",
       "              dtype='datetime64[ns]', freq='H')"
      ]
     },
     "metadata": {},
     "execution_count": 13
    }
   ],
   "source": [
    "df.index"
   ]
  },
  {
   "cell_type": "code",
   "execution_count": 15,
   "metadata": {},
   "outputs": [
    {
     "output_type": "execute_result",
     "data": {
      "text/plain": [
       "Index(['A', 'B', 'C', 'D'], dtype='object')"
      ]
     },
     "metadata": {},
     "execution_count": 15
    }
   ],
   "source": [
    "df.columns"
   ]
  },
  {
   "cell_type": "code",
   "execution_count": 16,
   "metadata": {},
   "outputs": [
    {
     "output_type": "execute_result",
     "data": {
      "text/plain": [
       "array([[-0.86717034, -1.76590966, -1.35117007,  0.16482848],\n",
       "       [-0.11792376,  0.25895807, -0.83111017,  0.59492356],\n",
       "       [-1.35598627, -0.13221036, -0.18398639, -0.74214626],\n",
       "       [-0.25873815,  0.48390411,  0.61844242,  0.65288529],\n",
       "       [ 1.25644685,  0.14435014, -1.36265161,  0.52311518],\n",
       "       [ 0.86639154, -0.26619951, -2.18384852,  2.37542583],\n",
       "       [ 1.03570356,  0.8138617 ,  1.36371287,  1.74053546],\n",
       "       [ 0.72572834, -1.20818985, -0.69756491,  0.76642733],\n",
       "       [-0.81700776,  0.82390079, -1.1519973 , -0.96561611],\n",
       "       [ 0.49523005,  0.22174202,  0.53709569,  0.41686194]])"
      ]
     },
     "metadata": {},
     "execution_count": 16
    }
   ],
   "source": [
    "df.values"
   ]
  },
  {
   "cell_type": "code",
   "execution_count": 17,
   "metadata": {},
   "outputs": [
    {
     "output_type": "execute_result",
     "data": {
      "text/plain": [
       "               A          B          C          D\n",
       "count  10.000000  10.000000  10.000000  10.000000\n",
       "mean    0.096267  -0.062579  -0.524308   0.552724\n",
       "std     0.908006   0.839295   1.094006   0.996798\n",
       "min    -1.355986  -1.765910  -2.183849  -0.965616\n",
       "25%    -0.677440  -0.232702  -1.301377   0.227837\n",
       "50%     0.188653   0.183046  -0.764338   0.559019\n",
       "75%     0.831226   0.427668   0.356825   0.738042\n",
       "max     1.256447   0.823901   1.363713   2.375426"
      ],
      "text/html": "<div>\n<style scoped>\n    .dataframe tbody tr th:only-of-type {\n        vertical-align: middle;\n    }\n\n    .dataframe tbody tr th {\n        vertical-align: top;\n    }\n\n    .dataframe thead th {\n        text-align: right;\n    }\n</style>\n<table border=\"1\" class=\"dataframe\">\n  <thead>\n    <tr style=\"text-align: right;\">\n      <th></th>\n      <th>A</th>\n      <th>B</th>\n      <th>C</th>\n      <th>D</th>\n    </tr>\n  </thead>\n  <tbody>\n    <tr>\n      <th>count</th>\n      <td>10.000000</td>\n      <td>10.000000</td>\n      <td>10.000000</td>\n      <td>10.000000</td>\n    </tr>\n    <tr>\n      <th>mean</th>\n      <td>0.096267</td>\n      <td>-0.062579</td>\n      <td>-0.524308</td>\n      <td>0.552724</td>\n    </tr>\n    <tr>\n      <th>std</th>\n      <td>0.908006</td>\n      <td>0.839295</td>\n      <td>1.094006</td>\n      <td>0.996798</td>\n    </tr>\n    <tr>\n      <th>min</th>\n      <td>-1.355986</td>\n      <td>-1.765910</td>\n      <td>-2.183849</td>\n      <td>-0.965616</td>\n    </tr>\n    <tr>\n      <th>25%</th>\n      <td>-0.677440</td>\n      <td>-0.232702</td>\n      <td>-1.301377</td>\n      <td>0.227837</td>\n    </tr>\n    <tr>\n      <th>50%</th>\n      <td>0.188653</td>\n      <td>0.183046</td>\n      <td>-0.764338</td>\n      <td>0.559019</td>\n    </tr>\n    <tr>\n      <th>75%</th>\n      <td>0.831226</td>\n      <td>0.427668</td>\n      <td>0.356825</td>\n      <td>0.738042</td>\n    </tr>\n    <tr>\n      <th>max</th>\n      <td>1.256447</td>\n      <td>0.823901</td>\n      <td>1.363713</td>\n      <td>2.375426</td>\n    </tr>\n  </tbody>\n</table>\n</div>"
     },
     "metadata": {},
     "execution_count": 17
    }
   ],
   "source": [
    "df.describe()"
   ]
  },
  {
   "cell_type": "code",
   "execution_count": null,
   "metadata": {},
   "outputs": [],
   "source": [
    "df.T"
   ]
  },
  {
   "cell_type": "code",
   "execution_count": 21,
   "metadata": {},
   "outputs": [
    {
     "data": {
      "text/html": [
       "<div>\n",
       "<style scoped>\n",
       "    .dataframe tbody tr th:only-of-type {\n",
       "        vertical-align: middle;\n",
       "    }\n",
       "\n",
       "    .dataframe tbody tr th {\n",
       "        vertical-align: top;\n",
       "    }\n",
       "\n",
       "    .dataframe thead th {\n",
       "        text-align: right;\n",
       "    }\n",
       "</style>\n",
       "<table border=\"1\" class=\"dataframe\">\n",
       "  <thead>\n",
       "    <tr style=\"text-align: right;\">\n",
       "      <th></th>\n",
       "      <th>D</th>\n",
       "      <th>C</th>\n",
       "      <th>B</th>\n",
       "      <th>A</th>\n",
       "    </tr>\n",
       "  </thead>\n",
       "  <tbody>\n",
       "    <tr>\n",
       "      <th>2020-11-09 14:45:00</th>\n",
       "      <td>-1.001985</td>\n",
       "      <td>-1.674751</td>\n",
       "      <td>1.096395</td>\n",
       "      <td>-1.395375</td>\n",
       "    </tr>\n",
       "    <tr>\n",
       "      <th>2020-11-09 15:45:00</th>\n",
       "      <td>0.419087</td>\n",
       "      <td>0.920188</td>\n",
       "      <td>0.185709</td>\n",
       "      <td>0.394478</td>\n",
       "    </tr>\n",
       "    <tr>\n",
       "      <th>2020-11-09 16:45:00</th>\n",
       "      <td>1.354213</td>\n",
       "      <td>0.295165</td>\n",
       "      <td>0.842007</td>\n",
       "      <td>-0.534601</td>\n",
       "    </tr>\n",
       "    <tr>\n",
       "      <th>2020-11-09 17:45:00</th>\n",
       "      <td>-1.226419</td>\n",
       "      <td>-1.246896</td>\n",
       "      <td>-0.061759</td>\n",
       "      <td>-0.563931</td>\n",
       "    </tr>\n",
       "    <tr>\n",
       "      <th>2020-11-09 18:45:00</th>\n",
       "      <td>-0.375001</td>\n",
       "      <td>-1.193606</td>\n",
       "      <td>-0.916528</td>\n",
       "      <td>0.159912</td>\n",
       "    </tr>\n",
       "    <tr>\n",
       "      <th>2020-11-09 19:45:00</th>\n",
       "      <td>0.388445</td>\n",
       "      <td>-2.895826</td>\n",
       "      <td>0.695712</td>\n",
       "      <td>0.441479</td>\n",
       "    </tr>\n",
       "    <tr>\n",
       "      <th>2020-11-09 20:45:00</th>\n",
       "      <td>0.029041</td>\n",
       "      <td>0.961186</td>\n",
       "      <td>-0.816105</td>\n",
       "      <td>-0.409839</td>\n",
       "    </tr>\n",
       "    <tr>\n",
       "      <th>2020-11-09 21:45:00</th>\n",
       "      <td>0.193979</td>\n",
       "      <td>0.678239</td>\n",
       "      <td>0.499768</td>\n",
       "      <td>0.599004</td>\n",
       "    </tr>\n",
       "    <tr>\n",
       "      <th>2020-11-09 22:45:00</th>\n",
       "      <td>1.106672</td>\n",
       "      <td>2.011264</td>\n",
       "      <td>1.074672</td>\n",
       "      <td>-0.557293</td>\n",
       "    </tr>\n",
       "    <tr>\n",
       "      <th>2020-11-09 23:45:00</th>\n",
       "      <td>0.667825</td>\n",
       "      <td>-0.729961</td>\n",
       "      <td>-0.626611</td>\n",
       "      <td>0.731060</td>\n",
       "    </tr>\n",
       "  </tbody>\n",
       "</table>\n",
       "</div>"
      ],
      "text/plain": [
       "                            D         C         B         A\n",
       "2020-11-09 14:45:00 -1.001985 -1.674751  1.096395 -1.395375\n",
       "2020-11-09 15:45:00  0.419087  0.920188  0.185709  0.394478\n",
       "2020-11-09 16:45:00  1.354213  0.295165  0.842007 -0.534601\n",
       "2020-11-09 17:45:00 -1.226419 -1.246896 -0.061759 -0.563931\n",
       "2020-11-09 18:45:00 -0.375001 -1.193606 -0.916528  0.159912\n",
       "2020-11-09 19:45:00  0.388445 -2.895826  0.695712  0.441479\n",
       "2020-11-09 20:45:00  0.029041  0.961186 -0.816105 -0.409839\n",
       "2020-11-09 21:45:00  0.193979  0.678239  0.499768  0.599004\n",
       "2020-11-09 22:45:00  1.106672  2.011264  1.074672 -0.557293\n",
       "2020-11-09 23:45:00  0.667825 -0.729961 -0.626611  0.731060"
      ]
     },
     "execution_count": 21,
     "metadata": {},
     "output_type": "execute_result"
    }
   ],
   "source": [
    "df.sort_index(axis=1,ascending=False)"
   ]
  },
  {
   "cell_type": "code",
   "execution_count": 20,
   "metadata": {},
   "outputs": [
    {
     "data": {
      "text/html": [
       "<div>\n",
       "<style scoped>\n",
       "    .dataframe tbody tr th:only-of-type {\n",
       "        vertical-align: middle;\n",
       "    }\n",
       "\n",
       "    .dataframe tbody tr th {\n",
       "        vertical-align: top;\n",
       "    }\n",
       "\n",
       "    .dataframe thead th {\n",
       "        text-align: right;\n",
       "    }\n",
       "</style>\n",
       "<table border=\"1\" class=\"dataframe\">\n",
       "  <thead>\n",
       "    <tr style=\"text-align: right;\">\n",
       "      <th></th>\n",
       "      <th>A</th>\n",
       "      <th>B</th>\n",
       "      <th>C</th>\n",
       "      <th>D</th>\n",
       "    </tr>\n",
       "  </thead>\n",
       "  <tbody>\n",
       "    <tr>\n",
       "      <th>2020-11-09 19:45:00</th>\n",
       "      <td>0.441479</td>\n",
       "      <td>0.695712</td>\n",
       "      <td>-2.895826</td>\n",
       "      <td>0.388445</td>\n",
       "    </tr>\n",
       "    <tr>\n",
       "      <th>2020-11-09 14:45:00</th>\n",
       "      <td>-1.395375</td>\n",
       "      <td>1.096395</td>\n",
       "      <td>-1.674751</td>\n",
       "      <td>-1.001985</td>\n",
       "    </tr>\n",
       "    <tr>\n",
       "      <th>2020-11-09 17:45:00</th>\n",
       "      <td>-0.563931</td>\n",
       "      <td>-0.061759</td>\n",
       "      <td>-1.246896</td>\n",
       "      <td>-1.226419</td>\n",
       "    </tr>\n",
       "    <tr>\n",
       "      <th>2020-11-09 18:45:00</th>\n",
       "      <td>0.159912</td>\n",
       "      <td>-0.916528</td>\n",
       "      <td>-1.193606</td>\n",
       "      <td>-0.375001</td>\n",
       "    </tr>\n",
       "    <tr>\n",
       "      <th>2020-11-09 23:45:00</th>\n",
       "      <td>0.731060</td>\n",
       "      <td>-0.626611</td>\n",
       "      <td>-0.729961</td>\n",
       "      <td>0.667825</td>\n",
       "    </tr>\n",
       "    <tr>\n",
       "      <th>2020-11-09 16:45:00</th>\n",
       "      <td>-0.534601</td>\n",
       "      <td>0.842007</td>\n",
       "      <td>0.295165</td>\n",
       "      <td>1.354213</td>\n",
       "    </tr>\n",
       "    <tr>\n",
       "      <th>2020-11-09 21:45:00</th>\n",
       "      <td>0.599004</td>\n",
       "      <td>0.499768</td>\n",
       "      <td>0.678239</td>\n",
       "      <td>0.193979</td>\n",
       "    </tr>\n",
       "    <tr>\n",
       "      <th>2020-11-09 15:45:00</th>\n",
       "      <td>0.394478</td>\n",
       "      <td>0.185709</td>\n",
       "      <td>0.920188</td>\n",
       "      <td>0.419087</td>\n",
       "    </tr>\n",
       "    <tr>\n",
       "      <th>2020-11-09 20:45:00</th>\n",
       "      <td>-0.409839</td>\n",
       "      <td>-0.816105</td>\n",
       "      <td>0.961186</td>\n",
       "      <td>0.029041</td>\n",
       "    </tr>\n",
       "    <tr>\n",
       "      <th>2020-11-09 22:45:00</th>\n",
       "      <td>-0.557293</td>\n",
       "      <td>1.074672</td>\n",
       "      <td>2.011264</td>\n",
       "      <td>1.106672</td>\n",
       "    </tr>\n",
       "  </tbody>\n",
       "</table>\n",
       "</div>"
      ],
      "text/plain": [
       "                            A         B         C         D\n",
       "2020-11-09 19:45:00  0.441479  0.695712 -2.895826  0.388445\n",
       "2020-11-09 14:45:00 -1.395375  1.096395 -1.674751 -1.001985\n",
       "2020-11-09 17:45:00 -0.563931 -0.061759 -1.246896 -1.226419\n",
       "2020-11-09 18:45:00  0.159912 -0.916528 -1.193606 -0.375001\n",
       "2020-11-09 23:45:00  0.731060 -0.626611 -0.729961  0.667825\n",
       "2020-11-09 16:45:00 -0.534601  0.842007  0.295165  1.354213\n",
       "2020-11-09 21:45:00  0.599004  0.499768  0.678239  0.193979\n",
       "2020-11-09 15:45:00  0.394478  0.185709  0.920188  0.419087\n",
       "2020-11-09 20:45:00 -0.409839 -0.816105  0.961186  0.029041\n",
       "2020-11-09 22:45:00 -0.557293  1.074672  2.011264  1.106672"
      ]
     },
     "execution_count": 20,
     "metadata": {},
     "output_type": "execute_result"
    }
   ],
   "source": [
    "df.sort_values(by=\"C\") \n",
    "# it allows to sort all the others serieses accordingly to the coloumn chosen"
   ]
  },
  {
   "cell_type": "markdown",
   "metadata": {},
   "source": [
    "## Selection\n",
    "\n",
    "### Getting slices\n",
    "\n",
    "The following show how to get part of the DataFrame (i.e. not just the elements), entire coloumns for examples and their labels and so on"
   ]
  },
  {
   "cell_type": "code",
   "execution_count": 46,
   "metadata": {},
   "outputs": [
    {
     "name": "stdout",
     "output_type": "stream",
     "text": [
      "2020-11-09 14:45:00   -1.395375\n",
      "2020-11-09 15:45:00    0.394478\n",
      "2020-11-09 16:45:00   -0.534601\n",
      "2020-11-09 17:45:00   -0.563931\n",
      "2020-11-09 18:45:00    0.159912\n",
      "2020-11-09 19:45:00    0.441479\n",
      "2020-11-09 20:45:00   -0.409839\n",
      "2020-11-09 21:45:00    0.599004\n",
      "2020-11-09 22:45:00   -0.557293\n",
      "2020-11-09 23:45:00    0.731060\n",
      "Freq: H, Name: A, dtype: float64 \n",
      "\n",
      "2020-11-09 14:45:00   -1.395375\n",
      "2020-11-09 15:45:00    0.394478\n",
      "2020-11-09 16:45:00   -0.534601\n",
      "2020-11-09 17:45:00   -0.563931\n",
      "2020-11-09 18:45:00    0.159912\n",
      "2020-11-09 19:45:00    0.441479\n",
      "2020-11-09 20:45:00   -0.409839\n",
      "2020-11-09 21:45:00    0.599004\n",
      "2020-11-09 22:45:00   -0.557293\n",
      "2020-11-09 23:45:00    0.731060\n",
      "Freq: H, Name: A, dtype: float64\n",
      "2020-11-09 14:45:00   -1.395375\n",
      "2020-11-09 15:45:00    0.394478\n",
      "2020-11-09 16:45:00   -0.534601\n",
      "2020-11-09 17:45:00   -0.563931\n",
      "2020-11-09 18:45:00    0.159912\n",
      "2020-11-09 19:45:00    0.441479\n",
      "2020-11-09 20:45:00   -0.409839\n",
      "2020-11-09 21:45:00    0.599004\n",
      "2020-11-09 22:45:00   -0.557293\n",
      "2020-11-09 23:45:00    0.731060\n",
      "Freq: H, Name: A, dtype: float64\n"
     ]
    }
   ],
   "source": [
    "## standard and safe\n",
    "print(df['A'],\"\\n\")\n",
    "# the collections of values for the label/index 'A'\n",
    "# or knowing where A label is we can write \n",
    "print(df.iloc[:,0])\n",
    "## equivalent but dangerous (imagine blank spaces in the name of the column..)\n",
    "print (df.A)"
   ]
  },
  {
   "cell_type": "code",
   "execution_count": 33,
   "metadata": {},
   "outputs": [
    {
     "data": {
      "text/html": [
       "<div>\n",
       "<style scoped>\n",
       "    .dataframe tbody tr th:only-of-type {\n",
       "        vertical-align: middle;\n",
       "    }\n",
       "\n",
       "    .dataframe tbody tr th {\n",
       "        vertical-align: top;\n",
       "    }\n",
       "\n",
       "    .dataframe thead th {\n",
       "        text-align: right;\n",
       "    }\n",
       "</style>\n",
       "<table border=\"1\" class=\"dataframe\">\n",
       "  <thead>\n",
       "    <tr style=\"text-align: right;\">\n",
       "      <th></th>\n",
       "      <th>A</th>\n",
       "      <th>B</th>\n",
       "      <th>C</th>\n",
       "      <th>D</th>\n",
       "    </tr>\n",
       "  </thead>\n",
       "  <tbody>\n",
       "    <tr>\n",
       "      <th>2020-11-09 14:45:00</th>\n",
       "      <td>-1.395375</td>\n",
       "      <td>1.096395</td>\n",
       "      <td>-1.674751</td>\n",
       "      <td>-1.001985</td>\n",
       "    </tr>\n",
       "    <tr>\n",
       "      <th>2020-11-09 15:45:00</th>\n",
       "      <td>0.394478</td>\n",
       "      <td>0.185709</td>\n",
       "      <td>0.920188</td>\n",
       "      <td>0.419087</td>\n",
       "    </tr>\n",
       "    <tr>\n",
       "      <th>2020-11-09 16:45:00</th>\n",
       "      <td>-0.534601</td>\n",
       "      <td>0.842007</td>\n",
       "      <td>0.295165</td>\n",
       "      <td>1.354213</td>\n",
       "    </tr>\n",
       "  </tbody>\n",
       "</table>\n",
       "</div>"
      ],
      "text/plain": [
       "                            A         B         C         D\n",
       "2020-11-09 14:45:00 -1.395375  1.096395 -1.674751 -1.001985\n",
       "2020-11-09 15:45:00  0.394478  0.185709  0.920188  0.419087\n",
       "2020-11-09 16:45:00 -0.534601  0.842007  0.295165  1.354213"
      ]
     },
     "metadata": {},
     "output_type": "display_data"
    },
    {
     "data": {
      "text/html": [
       "<div>\n",
       "<style scoped>\n",
       "    .dataframe tbody tr th:only-of-type {\n",
       "        vertical-align: middle;\n",
       "    }\n",
       "\n",
       "    .dataframe tbody tr th {\n",
       "        vertical-align: top;\n",
       "    }\n",
       "\n",
       "    .dataframe thead th {\n",
       "        text-align: right;\n",
       "    }\n",
       "</style>\n",
       "<table border=\"1\" class=\"dataframe\">\n",
       "  <thead>\n",
       "    <tr style=\"text-align: right;\">\n",
       "      <th></th>\n",
       "      <th>A</th>\n",
       "      <th>B</th>\n",
       "      <th>C</th>\n",
       "      <th>D</th>\n",
       "    </tr>\n",
       "  </thead>\n",
       "  <tbody>\n",
       "    <tr>\n",
       "      <th>2020-11-09 14:45:00</th>\n",
       "      <td>-1.395375</td>\n",
       "      <td>1.096395</td>\n",
       "      <td>-1.674751</td>\n",
       "      <td>-1.001985</td>\n",
       "    </tr>\n",
       "    <tr>\n",
       "      <th>2020-11-09 15:45:00</th>\n",
       "      <td>0.394478</td>\n",
       "      <td>0.185709</td>\n",
       "      <td>0.920188</td>\n",
       "      <td>0.419087</td>\n",
       "    </tr>\n",
       "    <tr>\n",
       "      <th>2020-11-09 16:45:00</th>\n",
       "      <td>-0.534601</td>\n",
       "      <td>0.842007</td>\n",
       "      <td>0.295165</td>\n",
       "      <td>1.354213</td>\n",
       "    </tr>\n",
       "  </tbody>\n",
       "</table>\n",
       "</div>"
      ],
      "text/plain": [
       "                            A         B         C         D\n",
       "2020-11-09 14:45:00 -1.395375  1.096395 -1.674751 -1.001985\n",
       "2020-11-09 15:45:00  0.394478  0.185709  0.920188  0.419087\n",
       "2020-11-09 16:45:00 -0.534601  0.842007  0.295165  1.354213"
      ]
     },
     "metadata": {},
     "output_type": "display_data"
    }
   ],
   "source": [
    "# selecting rows by counting\n",
    "display(df[0:3])\n",
    "\n",
    "# or by index\n",
    "display(df[\"2020-11-09 14:45:00\":\"2020-11-09 16:45:00\"])"
   ]
  },
  {
   "cell_type": "markdown",
   "metadata": {},
   "source": [
    "### Selection by label"
   ]
  },
  {
   "cell_type": "markdown",
   "metadata": {},
   "source": [
    "Loc method gives copies, remember when we're trying to change a data frame through a mask for example. iloc returns views"
   ]
  },
  {
   "cell_type": "code",
   "execution_count": 42,
   "metadata": {},
   "outputs": [
    {
     "data": {
      "text/plain": [
       "A   -1.395375\n",
       "B    1.096395\n",
       "C   -1.674751\n",
       "D   -1.001985\n",
       "Name: 2020-11-09 14:45:00, dtype: float64"
      ]
     },
     "execution_count": 42,
     "metadata": {},
     "output_type": "execute_result"
    }
   ],
   "source": [
    "# getting a cross section (part of the DataFrame) using a label\n",
    "df.loc[dates[0]]"
   ]
  },
  {
   "cell_type": "code",
   "execution_count": 36,
   "metadata": {},
   "outputs": [
    {
     "data": {
      "text/html": [
       "<div>\n",
       "<style scoped>\n",
       "    .dataframe tbody tr th:only-of-type {\n",
       "        vertical-align: middle;\n",
       "    }\n",
       "\n",
       "    .dataframe tbody tr th {\n",
       "        vertical-align: top;\n",
       "    }\n",
       "\n",
       "    .dataframe thead th {\n",
       "        text-align: right;\n",
       "    }\n",
       "</style>\n",
       "<table border=\"1\" class=\"dataframe\">\n",
       "  <thead>\n",
       "    <tr style=\"text-align: right;\">\n",
       "      <th></th>\n",
       "      <th>A</th>\n",
       "      <th>B</th>\n",
       "    </tr>\n",
       "  </thead>\n",
       "  <tbody>\n",
       "    <tr>\n",
       "      <th>2020-11-09 14:45:00</th>\n",
       "      <td>-1.395375</td>\n",
       "      <td>1.096395</td>\n",
       "    </tr>\n",
       "    <tr>\n",
       "      <th>2020-11-09 15:45:00</th>\n",
       "      <td>0.394478</td>\n",
       "      <td>0.185709</td>\n",
       "    </tr>\n",
       "    <tr>\n",
       "      <th>2020-11-09 16:45:00</th>\n",
       "      <td>-0.534601</td>\n",
       "      <td>0.842007</td>\n",
       "    </tr>\n",
       "    <tr>\n",
       "      <th>2020-11-09 17:45:00</th>\n",
       "      <td>-0.563931</td>\n",
       "      <td>-0.061759</td>\n",
       "    </tr>\n",
       "    <tr>\n",
       "      <th>2020-11-09 18:45:00</th>\n",
       "      <td>0.159912</td>\n",
       "      <td>-0.916528</td>\n",
       "    </tr>\n",
       "    <tr>\n",
       "      <th>2020-11-09 19:45:00</th>\n",
       "      <td>0.441479</td>\n",
       "      <td>0.695712</td>\n",
       "    </tr>\n",
       "    <tr>\n",
       "      <th>2020-11-09 20:45:00</th>\n",
       "      <td>-0.409839</td>\n",
       "      <td>-0.816105</td>\n",
       "    </tr>\n",
       "    <tr>\n",
       "      <th>2020-11-09 21:45:00</th>\n",
       "      <td>0.599004</td>\n",
       "      <td>0.499768</td>\n",
       "    </tr>\n",
       "    <tr>\n",
       "      <th>2020-11-09 22:45:00</th>\n",
       "      <td>-0.557293</td>\n",
       "      <td>1.074672</td>\n",
       "    </tr>\n",
       "    <tr>\n",
       "      <th>2020-11-09 23:45:00</th>\n",
       "      <td>0.731060</td>\n",
       "      <td>-0.626611</td>\n",
       "    </tr>\n",
       "  </tbody>\n",
       "</table>\n",
       "</div>"
      ],
      "text/plain": [
       "                            A         B\n",
       "2020-11-09 14:45:00 -1.395375  1.096395\n",
       "2020-11-09 15:45:00  0.394478  0.185709\n",
       "2020-11-09 16:45:00 -0.534601  0.842007\n",
       "2020-11-09 17:45:00 -0.563931 -0.061759\n",
       "2020-11-09 18:45:00  0.159912 -0.916528\n",
       "2020-11-09 19:45:00  0.441479  0.695712\n",
       "2020-11-09 20:45:00 -0.409839 -0.816105\n",
       "2020-11-09 21:45:00  0.599004  0.499768\n",
       "2020-11-09 22:45:00 -0.557293  1.074672\n",
       "2020-11-09 23:45:00  0.731060 -0.626611"
      ]
     },
     "execution_count": 36,
     "metadata": {},
     "output_type": "execute_result"
    }
   ],
   "source": [
    "# selecting on a multi-axis by label:\n",
    "df.loc[:,['A','B']]"
   ]
  },
  {
   "cell_type": "code",
   "execution_count": null,
   "metadata": {},
   "outputs": [],
   "source": [
    "# showing label slicing, both endpoints are included:\n",
    "df.loc['2020-11-09 18:45:00':'2020-11-09 20:45:00',['A','B']]"
   ]
  },
  {
   "cell_type": "code",
   "execution_count": null,
   "metadata": {},
   "outputs": [],
   "source": [
    "# getting an individual element\n",
    "print (df.loc[dates[1],'A'])\n",
    "\n",
    "# equivalently\n",
    "print (df.at[dates[1],'A'])"
   ]
  },
  {
   "cell_type": "markdown",
   "metadata": {},
   "source": [
    "### Selecting by position"
   ]
  },
  {
   "cell_type": "code",
   "execution_count": null,
   "metadata": {},
   "outputs": [],
   "source": [
    "# select via the position of the passed integers:\n",
    "print (df.iloc[3],'\\n')\n",
    "\n",
    "# notation similar to numpy/python\n",
    "print (df.iloc[3:5,0:2])"
   ]
  },
  {
   "cell_type": "code",
   "execution_count": null,
   "metadata": {},
   "outputs": [],
   "source": [
    "# selecting raws 1,2 and 4 for columns 0 and 2\n",
    "df.iloc[[1,2,4],[0,2]]"
   ]
  },
  {
   "cell_type": "code",
   "execution_count": null,
   "metadata": {},
   "outputs": [],
   "source": [
    "# slicing rows explicitly\n",
    "print (df.iloc[1:3,:],'\\n')\n",
    "\n",
    "# slicing columns explicitly\n",
    "print (df.iloc[:,1:3])\n"
   ]
  },
  {
   "cell_type": "code",
   "execution_count": null,
   "metadata": {},
   "outputs": [],
   "source": [
    "# selecting an individual element by position\n",
    "df.iloc[1,1]\n",
    "df.iat[1,1]\n"
   ]
  },
  {
   "cell_type": "markdown",
   "metadata": {},
   "source": [
    "### Boolean index\n",
    "\n",
    "Very powerful way of filtering out data with certain features. Notation is very similar to numpy arrays."
   ]
  },
  {
   "cell_type": "code",
   "execution_count": 47,
   "metadata": {},
   "outputs": [
    {
     "data": {
      "text/html": [
       "<div>\n",
       "<style scoped>\n",
       "    .dataframe tbody tr th:only-of-type {\n",
       "        vertical-align: middle;\n",
       "    }\n",
       "\n",
       "    .dataframe tbody tr th {\n",
       "        vertical-align: top;\n",
       "    }\n",
       "\n",
       "    .dataframe thead th {\n",
       "        text-align: right;\n",
       "    }\n",
       "</style>\n",
       "<table border=\"1\" class=\"dataframe\">\n",
       "  <thead>\n",
       "    <tr style=\"text-align: right;\">\n",
       "      <th></th>\n",
       "      <th>A</th>\n",
       "      <th>B</th>\n",
       "      <th>C</th>\n",
       "      <th>D</th>\n",
       "    </tr>\n",
       "  </thead>\n",
       "  <tbody>\n",
       "    <tr>\n",
       "      <th>2020-11-09 14:45:00</th>\n",
       "      <td>-1.395375</td>\n",
       "      <td>1.096395</td>\n",
       "      <td>-1.674751</td>\n",
       "      <td>-1.001985</td>\n",
       "    </tr>\n",
       "    <tr>\n",
       "      <th>2020-11-09 15:45:00</th>\n",
       "      <td>0.394478</td>\n",
       "      <td>0.185709</td>\n",
       "      <td>0.920188</td>\n",
       "      <td>0.419087</td>\n",
       "    </tr>\n",
       "    <tr>\n",
       "      <th>2020-11-09 16:45:00</th>\n",
       "      <td>-0.534601</td>\n",
       "      <td>0.842007</td>\n",
       "      <td>0.295165</td>\n",
       "      <td>1.354213</td>\n",
       "    </tr>\n",
       "    <tr>\n",
       "      <th>2020-11-09 19:45:00</th>\n",
       "      <td>0.441479</td>\n",
       "      <td>0.695712</td>\n",
       "      <td>-2.895826</td>\n",
       "      <td>0.388445</td>\n",
       "    </tr>\n",
       "    <tr>\n",
       "      <th>2020-11-09 21:45:00</th>\n",
       "      <td>0.599004</td>\n",
       "      <td>0.499768</td>\n",
       "      <td>0.678239</td>\n",
       "      <td>0.193979</td>\n",
       "    </tr>\n",
       "    <tr>\n",
       "      <th>2020-11-09 22:45:00</th>\n",
       "      <td>-0.557293</td>\n",
       "      <td>1.074672</td>\n",
       "      <td>2.011264</td>\n",
       "      <td>1.106672</td>\n",
       "    </tr>\n",
       "  </tbody>\n",
       "</table>\n",
       "</div>"
      ],
      "text/plain": [
       "                            A         B         C         D\n",
       "2020-11-09 14:45:00 -1.395375  1.096395 -1.674751 -1.001985\n",
       "2020-11-09 15:45:00  0.394478  0.185709  0.920188  0.419087\n",
       "2020-11-09 16:45:00 -0.534601  0.842007  0.295165  1.354213\n",
       "2020-11-09 19:45:00  0.441479  0.695712 -2.895826  0.388445\n",
       "2020-11-09 21:45:00  0.599004  0.499768  0.678239  0.193979\n",
       "2020-11-09 22:45:00 -0.557293  1.074672  2.011264  1.106672"
      ]
     },
     "execution_count": 47,
     "metadata": {},
     "output_type": "execute_result"
    }
   ],
   "source": [
    "# Filter by a boolean condition on the values of a single column\n",
    "df[df['B'] > 0]\n",
    "# getting rid of the false entries"
   ]
  },
  {
   "cell_type": "code",
   "execution_count": 48,
   "metadata": {},
   "outputs": [
    {
     "data": {
      "text/html": [
       "<div>\n",
       "<style scoped>\n",
       "    .dataframe tbody tr th:only-of-type {\n",
       "        vertical-align: middle;\n",
       "    }\n",
       "\n",
       "    .dataframe tbody tr th {\n",
       "        vertical-align: top;\n",
       "    }\n",
       "\n",
       "    .dataframe thead th {\n",
       "        text-align: right;\n",
       "    }\n",
       "</style>\n",
       "<table border=\"1\" class=\"dataframe\">\n",
       "  <thead>\n",
       "    <tr style=\"text-align: right;\">\n",
       "      <th></th>\n",
       "      <th>A</th>\n",
       "      <th>B</th>\n",
       "      <th>C</th>\n",
       "      <th>D</th>\n",
       "    </tr>\n",
       "  </thead>\n",
       "  <tbody>\n",
       "    <tr>\n",
       "      <th>2020-11-09 14:45:00</th>\n",
       "      <td>NaN</td>\n",
       "      <td>1.096395</td>\n",
       "      <td>NaN</td>\n",
       "      <td>NaN</td>\n",
       "    </tr>\n",
       "    <tr>\n",
       "      <th>2020-11-09 15:45:00</th>\n",
       "      <td>0.394478</td>\n",
       "      <td>0.185709</td>\n",
       "      <td>0.920188</td>\n",
       "      <td>0.419087</td>\n",
       "    </tr>\n",
       "    <tr>\n",
       "      <th>2020-11-09 16:45:00</th>\n",
       "      <td>NaN</td>\n",
       "      <td>0.842007</td>\n",
       "      <td>0.295165</td>\n",
       "      <td>1.354213</td>\n",
       "    </tr>\n",
       "    <tr>\n",
       "      <th>2020-11-09 17:45:00</th>\n",
       "      <td>NaN</td>\n",
       "      <td>NaN</td>\n",
       "      <td>NaN</td>\n",
       "      <td>NaN</td>\n",
       "    </tr>\n",
       "    <tr>\n",
       "      <th>2020-11-09 18:45:00</th>\n",
       "      <td>0.159912</td>\n",
       "      <td>NaN</td>\n",
       "      <td>NaN</td>\n",
       "      <td>NaN</td>\n",
       "    </tr>\n",
       "    <tr>\n",
       "      <th>2020-11-09 19:45:00</th>\n",
       "      <td>0.441479</td>\n",
       "      <td>0.695712</td>\n",
       "      <td>NaN</td>\n",
       "      <td>0.388445</td>\n",
       "    </tr>\n",
       "    <tr>\n",
       "      <th>2020-11-09 20:45:00</th>\n",
       "      <td>NaN</td>\n",
       "      <td>NaN</td>\n",
       "      <td>0.961186</td>\n",
       "      <td>0.029041</td>\n",
       "    </tr>\n",
       "    <tr>\n",
       "      <th>2020-11-09 21:45:00</th>\n",
       "      <td>0.599004</td>\n",
       "      <td>0.499768</td>\n",
       "      <td>0.678239</td>\n",
       "      <td>0.193979</td>\n",
       "    </tr>\n",
       "    <tr>\n",
       "      <th>2020-11-09 22:45:00</th>\n",
       "      <td>NaN</td>\n",
       "      <td>1.074672</td>\n",
       "      <td>2.011264</td>\n",
       "      <td>1.106672</td>\n",
       "    </tr>\n",
       "    <tr>\n",
       "      <th>2020-11-09 23:45:00</th>\n",
       "      <td>0.731060</td>\n",
       "      <td>NaN</td>\n",
       "      <td>NaN</td>\n",
       "      <td>0.667825</td>\n",
       "    </tr>\n",
       "  </tbody>\n",
       "</table>\n",
       "</div>"
      ],
      "text/plain": [
       "                            A         B         C         D\n",
       "2020-11-09 14:45:00       NaN  1.096395       NaN       NaN\n",
       "2020-11-09 15:45:00  0.394478  0.185709  0.920188  0.419087\n",
       "2020-11-09 16:45:00       NaN  0.842007  0.295165  1.354213\n",
       "2020-11-09 17:45:00       NaN       NaN       NaN       NaN\n",
       "2020-11-09 18:45:00  0.159912       NaN       NaN       NaN\n",
       "2020-11-09 19:45:00  0.441479  0.695712       NaN  0.388445\n",
       "2020-11-09 20:45:00       NaN       NaN  0.961186  0.029041\n",
       "2020-11-09 21:45:00  0.599004  0.499768  0.678239  0.193979\n",
       "2020-11-09 22:45:00       NaN  1.074672  2.011264  1.106672\n",
       "2020-11-09 23:45:00  0.731060       NaN       NaN  0.667825"
      ]
     },
     "execution_count": 48,
     "metadata": {},
     "output_type": "execute_result"
    }
   ],
   "source": [
    "# Selecting on the basis of boolean conditions applied to the whole DataFrame\n",
    "df[df>0]\n",
    "\n",
    "# a DataFrame with the same shape is returned, with NaN's where condition is not met"
   ]
  },
  {
   "cell_type": "markdown",
   "metadata": {},
   "source": [
    "### Setting\n",
    "\n",
    "Combination of selection and setting of values"
   ]
  },
  {
   "cell_type": "code",
   "execution_count": null,
   "metadata": {},
   "outputs": [],
   "source": [
    "# setting values by label (same as by position)\n",
    "df.at[dates[0],'A'] = 0\n",
    "\n",
    "# setting and assigning a numpy array\n",
    "df.loc[:,'D'] = np.array([5] * len(df))\n",
    "\n",
    "# defining a brend new column\n",
    "df['E'] = np.arange(len(df))*0.5\n",
    "\n",
    "# defining a brend new column by means of a pd.Series: indexes must be the same!\n",
    "df['E prime'] = pd.Series(np.arange(len(df))*2, index=df.index)\n"
   ]
  },
  {
   "cell_type": "code",
   "execution_count": null,
   "metadata": {},
   "outputs": [],
   "source": [
    "def dcos(theta):\n",
    "    theta = theta*(np.pi/180)\n",
    "    return np.cos(theta)\n",
    " \n",
    "df['cosine'] = pd.Series(df[\"E\"].apply(dcos), index=df.index)\n",
    "df"
   ]
  },
  {
   "cell_type": "code",
   "execution_count": 49,
   "metadata": {},
   "outputs": [
    {
     "data": {
      "text/html": [
       "<div>\n",
       "<style scoped>\n",
       "    .dataframe tbody tr th:only-of-type {\n",
       "        vertical-align: middle;\n",
       "    }\n",
       "\n",
       "    .dataframe tbody tr th {\n",
       "        vertical-align: top;\n",
       "    }\n",
       "\n",
       "    .dataframe thead th {\n",
       "        text-align: right;\n",
       "    }\n",
       "</style>\n",
       "<table border=\"1\" class=\"dataframe\">\n",
       "  <thead>\n",
       "    <tr style=\"text-align: right;\">\n",
       "      <th></th>\n",
       "      <th>A</th>\n",
       "      <th>B</th>\n",
       "      <th>C</th>\n",
       "      <th>D</th>\n",
       "    </tr>\n",
       "  </thead>\n",
       "  <tbody>\n",
       "    <tr>\n",
       "      <th>2020-11-09 14:45:00</th>\n",
       "      <td>-1.395375</td>\n",
       "      <td>-1.096395</td>\n",
       "      <td>-1.674751</td>\n",
       "      <td>-1.001985</td>\n",
       "    </tr>\n",
       "    <tr>\n",
       "      <th>2020-11-09 15:45:00</th>\n",
       "      <td>-0.394478</td>\n",
       "      <td>-0.185709</td>\n",
       "      <td>-0.920188</td>\n",
       "      <td>-0.419087</td>\n",
       "    </tr>\n",
       "    <tr>\n",
       "      <th>2020-11-09 16:45:00</th>\n",
       "      <td>-0.534601</td>\n",
       "      <td>-0.842007</td>\n",
       "      <td>-0.295165</td>\n",
       "      <td>-1.354213</td>\n",
       "    </tr>\n",
       "    <tr>\n",
       "      <th>2020-11-09 17:45:00</th>\n",
       "      <td>-0.563931</td>\n",
       "      <td>-0.061759</td>\n",
       "      <td>-1.246896</td>\n",
       "      <td>-1.226419</td>\n",
       "    </tr>\n",
       "    <tr>\n",
       "      <th>2020-11-09 18:45:00</th>\n",
       "      <td>-0.159912</td>\n",
       "      <td>-0.916528</td>\n",
       "      <td>-1.193606</td>\n",
       "      <td>-0.375001</td>\n",
       "    </tr>\n",
       "    <tr>\n",
       "      <th>2020-11-09 19:45:00</th>\n",
       "      <td>-0.441479</td>\n",
       "      <td>-0.695712</td>\n",
       "      <td>-2.895826</td>\n",
       "      <td>-0.388445</td>\n",
       "    </tr>\n",
       "    <tr>\n",
       "      <th>2020-11-09 20:45:00</th>\n",
       "      <td>-0.409839</td>\n",
       "      <td>-0.816105</td>\n",
       "      <td>-0.961186</td>\n",
       "      <td>-0.029041</td>\n",
       "    </tr>\n",
       "    <tr>\n",
       "      <th>2020-11-09 21:45:00</th>\n",
       "      <td>-0.599004</td>\n",
       "      <td>-0.499768</td>\n",
       "      <td>-0.678239</td>\n",
       "      <td>-0.193979</td>\n",
       "    </tr>\n",
       "    <tr>\n",
       "      <th>2020-11-09 22:45:00</th>\n",
       "      <td>-0.557293</td>\n",
       "      <td>-1.074672</td>\n",
       "      <td>-2.011264</td>\n",
       "      <td>-1.106672</td>\n",
       "    </tr>\n",
       "    <tr>\n",
       "      <th>2020-11-09 23:45:00</th>\n",
       "      <td>-0.731060</td>\n",
       "      <td>-0.626611</td>\n",
       "      <td>-0.729961</td>\n",
       "      <td>-0.667825</td>\n",
       "    </tr>\n",
       "  </tbody>\n",
       "</table>\n",
       "</div>"
      ],
      "text/plain": [
       "                            A         B         C         D\n",
       "2020-11-09 14:45:00 -1.395375 -1.096395 -1.674751 -1.001985\n",
       "2020-11-09 15:45:00 -0.394478 -0.185709 -0.920188 -0.419087\n",
       "2020-11-09 16:45:00 -0.534601 -0.842007 -0.295165 -1.354213\n",
       "2020-11-09 17:45:00 -0.563931 -0.061759 -1.246896 -1.226419\n",
       "2020-11-09 18:45:00 -0.159912 -0.916528 -1.193606 -0.375001\n",
       "2020-11-09 19:45:00 -0.441479 -0.695712 -2.895826 -0.388445\n",
       "2020-11-09 20:45:00 -0.409839 -0.816105 -0.961186 -0.029041\n",
       "2020-11-09 21:45:00 -0.599004 -0.499768 -0.678239 -0.193979\n",
       "2020-11-09 22:45:00 -0.557293 -1.074672 -2.011264 -1.106672\n",
       "2020-11-09 23:45:00 -0.731060 -0.626611 -0.729961 -0.667825"
      ]
     },
     "execution_count": 49,
     "metadata": {},
     "output_type": "execute_result"
    }
   ],
   "source": [
    "# another example of global setting\n",
    "df2=df.copy() # it's possbile that in pandas using equal means always creating a copy\n",
    "df2[df2>0] = -df2\n",
    "df2"
   ]
  },
  {
   "cell_type": "markdown",
   "metadata": {},
   "source": [
    "### Dropping\n",
    "\n",
    "N.B.: dropping doesn't act permanently on the DataFrame, i.e. to get that do :\n",
    "```python\n",
    "df = df.drop(....)\n",
    "```"
   ]
  },
  {
   "cell_type": "code",
   "execution_count": null,
   "metadata": {},
   "outputs": [],
   "source": [
    "# Dropping by column\n",
    "df.drop(['E prime'], axis=1)\n",
    "\n",
    "#which is equivalent to\n",
    "df.drop(columns=['E prime'])"
   ]
  },
  {
   "cell_type": "code",
   "execution_count": null,
   "metadata": {},
   "outputs": [],
   "source": [
    "# Dropping by raws\n",
    "# safe and always working\n",
    "df.drop(df.index[[1,2,3,4]])"
   ]
  },
  {
   "cell_type": "code",
   "execution_count": null,
   "metadata": {},
   "outputs": [],
   "source": [
    "# something like df.drop('index_name') \n",
    "# would work but the type of index must be specificed, \n",
    "# in particular with DatetimeIndex\n",
    "df.drop(pd.to_datetime(\"2020-11-09 22:45:00\"))"
   ]
  },
  {
   "cell_type": "markdown",
   "metadata": {},
   "source": [
    "## Missing data\n",
    "\n",
    "pandas primarily uses the value np.nan to represent missing data. It is by default not included in computations."
   ]
  },
  {
   "cell_type": "code",
   "execution_count": null,
   "metadata": {},
   "outputs": [],
   "source": [
    "df_wNan = df[df>0]\n",
    "df_wNan"
   ]
  },
  {
   "cell_type": "code",
   "execution_count": null,
   "metadata": {},
   "outputs": [],
   "source": [
    "# dropping raws with at least a Nan\n",
    "df_wNan.dropna(how='any')"
   ]
  },
  {
   "cell_type": "code",
   "execution_count": null,
   "metadata": {},
   "outputs": [],
   "source": [
    "# getting a mask\n",
    "df_wNan.isna()\n",
    "#df_wNan.notna()"
   ]
  },
  {
   "cell_type": "code",
   "execution_count": null,
   "metadata": {},
   "outputs": [],
   "source": [
    "# filling missing data\n",
    "df_wNan.fillna(value=0)"
   ]
  },
  {
   "cell_type": "markdown",
   "metadata": {},
   "source": [
    "Fill gaps forward or backward by propagating non-NA values forward or backward:"
   ]
  },
  {
   "cell_type": "code",
   "execution_count": 50,
   "metadata": {},
   "outputs": [
    {
     "ename": "NameError",
     "evalue": "name 'df_wNan' is not defined",
     "output_type": "error",
     "traceback": [
      "\u001b[1;31m---------------------------------------------------------------------------\u001b[0m",
      "\u001b[1;31mNameError\u001b[0m                                 Traceback (most recent call last)",
      "\u001b[1;32m<ipython-input-50-4ae3878b0281>\u001b[0m in \u001b[0;36m<module>\u001b[1;34m\u001b[0m\n\u001b[1;32m----> 1\u001b[1;33m \u001b[0mdf_wNan\u001b[0m\u001b[1;33m.\u001b[0m\u001b[0mfillna\u001b[0m\u001b[1;33m(\u001b[0m\u001b[0mmethod\u001b[0m\u001b[1;33m=\u001b[0m\u001b[1;34m'pad'\u001b[0m\u001b[1;33m)\u001b[0m\u001b[1;33m\u001b[0m\u001b[1;33m\u001b[0m\u001b[0m\n\u001b[0m\u001b[0;32m      2\u001b[0m \u001b[1;31m# we can ask pandas to be smart in a way that interpolate a missing number\u001b[0m\u001b[1;33m\u001b[0m\u001b[1;33m\u001b[0m\u001b[1;33m\u001b[0m\u001b[0m\n",
      "\u001b[1;31mNameError\u001b[0m: name 'df_wNan' is not defined"
     ]
    }
   ],
   "source": [
    "df_wNan.fillna(method='pad')\n",
    "# we can ask pandas to be smart in a way that interpolate a missing number "
   ]
  },
  {
   "cell_type": "markdown",
   "metadata": {},
   "source": [
    "## Operations\n",
    "\n",
    "Here comes the most relevant advantage of DataFrame. Operations on columns are extremly fast, almost as fast as the actual operation between elements in a raw"
   ]
  },
  {
   "cell_type": "code",
   "execution_count": null,
   "metadata": {},
   "outputs": [],
   "source": [
    "# Some statistics (mean() just as an example)\n",
    "# raws\n",
    "print (df.mean(axis=0),'\\n')\n",
    "# columns\n",
    "print (df.mean(axis=1),'\\n')"
   ]
  },
  {
   "cell_type": "code",
   "execution_count": null,
   "metadata": {},
   "outputs": [],
   "source": [
    "# global operations on columns\n",
    "df.apply(np.cumsum)"
   ]
  },
  {
   "cell_type": "code",
   "execution_count": null,
   "metadata": {},
   "outputs": [],
   "source": [
    "df"
   ]
  },
  {
   "cell_type": "code",
   "execution_count": null,
   "metadata": {},
   "outputs": [],
   "source": [
    "df.apply(lambda x: x.max() - x.min())"
   ]
  },
  {
   "cell_type": "code",
   "execution_count": null,
   "metadata": {},
   "outputs": [],
   "source": [
    "# syntax is as usual similar to that of numpy arrays\n",
    "df['A']+df['B']"
   ]
  },
  {
   "cell_type": "markdown",
   "metadata": {},
   "source": [
    "Let's play it hard and load (in memory) a (relatively) large dataset"
   ]
  },
  {
   "cell_type": "code",
   "execution_count": null,
   "metadata": {},
   "outputs": [],
   "source": [
    "# WARNING! link in past notebook was wrong!, (if needed) get the right file from:\n",
    "#!wget https://www.dropbox.com/s/xvjzaxzz3ysphme/data_000637.txt -P ~/data/\n",
    "\n",
    "file_name=\"~/data/data_000637.txt\"\n",
    "data=pd.read_csv(file_name)\n",
    "data"
   ]
  },
  {
   "cell_type": "markdown",
   "metadata": {},
   "source": [
    "Let's now do some operations among (elements of) columns"
   ]
  },
  {
   "cell_type": "code",
   "execution_count": null,
   "metadata": {},
   "outputs": [],
   "source": [
    "# the one-liner killing it all\n",
    "data['timens']=data['TDC_MEAS']*25/30+data['BX_COUNTER']*25"
   ]
  },
  {
   "cell_type": "code",
   "execution_count": null,
   "metadata": {},
   "outputs": [],
   "source": [
    "# the old slooow way\n",
    "def conversion(data):\n",
    "    result=[]\n",
    "    for i in range(len(data)): \n",
    "        result.append(data.loc[data.index[i],'TDC_MEAS']*25/30.+data.loc[data.index[i],'BX_COUNTER']*25)\n",
    "    return result\n",
    "\n",
    "data['timens']=conversion(data)"
   ]
  },
  {
   "cell_type": "markdown",
   "metadata": {},
   "source": [
    "## Merge\n",
    "\n",
    "pandas provides various facilities for easily combining together Series, DataFrame, and Panel objects with various kinds of set logic for the indexes and relational algebra functionality in the case of join / merge-type operations.\n",
    "\n",
    "### Concat\n",
    "\n",
    "concatenation (adding rows) is straightforward\n"
   ]
  },
  {
   "cell_type": "code",
   "execution_count": 3,
   "metadata": {},
   "outputs": [
    {
     "output_type": "execute_result",
     "data": {
      "text/plain": [
       "          0         1         2         3\n",
       "0 -0.124687 -0.119656 -0.197543 -1.169762\n",
       "1 -0.628206  0.583260  1.938118 -0.080136\n",
       "2  0.523286  0.525161 -0.610871  1.712230\n",
       "3  0.213260  2.448231 -0.096719 -0.095600\n",
       "4 -0.401838  0.785407  0.063044  0.304537\n",
       "5  0.148045  0.169112 -0.112844 -0.730088\n",
       "6  0.574300 -0.014419 -0.646190 -1.117287\n",
       "7  0.597499 -0.703203 -0.599358  0.162409\n",
       "8  1.772867 -0.416577 -2.200459 -0.091192\n",
       "9 -0.496784 -0.462003  1.624592  0.298947"
      ],
      "text/html": "<div>\n<style scoped>\n    .dataframe tbody tr th:only-of-type {\n        vertical-align: middle;\n    }\n\n    .dataframe tbody tr th {\n        vertical-align: top;\n    }\n\n    .dataframe thead th {\n        text-align: right;\n    }\n</style>\n<table border=\"1\" class=\"dataframe\">\n  <thead>\n    <tr style=\"text-align: right;\">\n      <th></th>\n      <th>0</th>\n      <th>1</th>\n      <th>2</th>\n      <th>3</th>\n    </tr>\n  </thead>\n  <tbody>\n    <tr>\n      <th>0</th>\n      <td>-0.124687</td>\n      <td>-0.119656</td>\n      <td>-0.197543</td>\n      <td>-1.169762</td>\n    </tr>\n    <tr>\n      <th>1</th>\n      <td>-0.628206</td>\n      <td>0.583260</td>\n      <td>1.938118</td>\n      <td>-0.080136</td>\n    </tr>\n    <tr>\n      <th>2</th>\n      <td>0.523286</td>\n      <td>0.525161</td>\n      <td>-0.610871</td>\n      <td>1.712230</td>\n    </tr>\n    <tr>\n      <th>3</th>\n      <td>0.213260</td>\n      <td>2.448231</td>\n      <td>-0.096719</td>\n      <td>-0.095600</td>\n    </tr>\n    <tr>\n      <th>4</th>\n      <td>-0.401838</td>\n      <td>0.785407</td>\n      <td>0.063044</td>\n      <td>0.304537</td>\n    </tr>\n    <tr>\n      <th>5</th>\n      <td>0.148045</td>\n      <td>0.169112</td>\n      <td>-0.112844</td>\n      <td>-0.730088</td>\n    </tr>\n    <tr>\n      <th>6</th>\n      <td>0.574300</td>\n      <td>-0.014419</td>\n      <td>-0.646190</td>\n      <td>-1.117287</td>\n    </tr>\n    <tr>\n      <th>7</th>\n      <td>0.597499</td>\n      <td>-0.703203</td>\n      <td>-0.599358</td>\n      <td>0.162409</td>\n    </tr>\n    <tr>\n      <th>8</th>\n      <td>1.772867</td>\n      <td>-0.416577</td>\n      <td>-2.200459</td>\n      <td>-0.091192</td>\n    </tr>\n    <tr>\n      <th>9</th>\n      <td>-0.496784</td>\n      <td>-0.462003</td>\n      <td>1.624592</td>\n      <td>0.298947</td>\n    </tr>\n  </tbody>\n</table>\n</div>"
     },
     "metadata": {},
     "execution_count": 3
    }
   ],
   "source": [
    "rdf = pd.DataFrame(np.random.randn(10, 4))\n",
    "rdf"
   ]
  },
  {
   "cell_type": "code",
   "execution_count": 4,
   "metadata": {},
   "outputs": [
    {
     "output_type": "execute_result",
     "data": {
      "text/plain": [
       "[          0         1         2         3\n",
       " 0 -0.124687 -0.119656 -0.197543 -1.169762\n",
       " 1 -0.628206  0.583260  1.938118 -0.080136\n",
       " 2  0.523286  0.525161 -0.610871  1.712230,\n",
       "           0         1         2         3\n",
       " 3  0.213260  2.448231 -0.096719 -0.095600\n",
       " 4 -0.401838  0.785407  0.063044  0.304537\n",
       " 5  0.148045  0.169112 -0.112844 -0.730088\n",
       " 6  0.574300 -0.014419 -0.646190 -1.117287,\n",
       "           0         1         2         3\n",
       " 7  0.597499 -0.703203 -0.599358  0.162409\n",
       " 8  1.772867 -0.416577 -2.200459 -0.091192\n",
       " 9 -0.496784 -0.462003  1.624592  0.298947]"
      ]
     },
     "metadata": {},
     "execution_count": 4
    }
   ],
   "source": [
    "# divide it into pieaces raw-wise\n",
    "pieces = [rdf[:3], rdf[3:7], rdf[7:]]\n",
    "pieces"
   ]
  },
  {
   "cell_type": "code",
   "execution_count": 5,
   "metadata": {},
   "outputs": [
    {
     "output_type": "execute_result",
     "data": {
      "text/plain": [
       "          0         1         2         3\n",
       "0 -0.124687 -0.119656 -0.197543 -1.169762\n",
       "1 -0.628206  0.583260  1.938118 -0.080136\n",
       "2  0.523286  0.525161 -0.610871  1.712230\n",
       "3  0.213260  2.448231 -0.096719 -0.095600\n",
       "4 -0.401838  0.785407  0.063044  0.304537\n",
       "5  0.148045  0.169112 -0.112844 -0.730088\n",
       "6  0.574300 -0.014419 -0.646190 -1.117287\n",
       "7  0.597499 -0.703203 -0.599358  0.162409\n",
       "8  1.772867 -0.416577 -2.200459 -0.091192\n",
       "9 -0.496784 -0.462003  1.624592  0.298947"
      ],
      "text/html": "<div>\n<style scoped>\n    .dataframe tbody tr th:only-of-type {\n        vertical-align: middle;\n    }\n\n    .dataframe tbody tr th {\n        vertical-align: top;\n    }\n\n    .dataframe thead th {\n        text-align: right;\n    }\n</style>\n<table border=\"1\" class=\"dataframe\">\n  <thead>\n    <tr style=\"text-align: right;\">\n      <th></th>\n      <th>0</th>\n      <th>1</th>\n      <th>2</th>\n      <th>3</th>\n    </tr>\n  </thead>\n  <tbody>\n    <tr>\n      <th>0</th>\n      <td>-0.124687</td>\n      <td>-0.119656</td>\n      <td>-0.197543</td>\n      <td>-1.169762</td>\n    </tr>\n    <tr>\n      <th>1</th>\n      <td>-0.628206</td>\n      <td>0.583260</td>\n      <td>1.938118</td>\n      <td>-0.080136</td>\n    </tr>\n    <tr>\n      <th>2</th>\n      <td>0.523286</td>\n      <td>0.525161</td>\n      <td>-0.610871</td>\n      <td>1.712230</td>\n    </tr>\n    <tr>\n      <th>3</th>\n      <td>0.213260</td>\n      <td>2.448231</td>\n      <td>-0.096719</td>\n      <td>-0.095600</td>\n    </tr>\n    <tr>\n      <th>4</th>\n      <td>-0.401838</td>\n      <td>0.785407</td>\n      <td>0.063044</td>\n      <td>0.304537</td>\n    </tr>\n    <tr>\n      <th>5</th>\n      <td>0.148045</td>\n      <td>0.169112</td>\n      <td>-0.112844</td>\n      <td>-0.730088</td>\n    </tr>\n    <tr>\n      <th>6</th>\n      <td>0.574300</td>\n      <td>-0.014419</td>\n      <td>-0.646190</td>\n      <td>-1.117287</td>\n    </tr>\n    <tr>\n      <th>7</th>\n      <td>0.597499</td>\n      <td>-0.703203</td>\n      <td>-0.599358</td>\n      <td>0.162409</td>\n    </tr>\n    <tr>\n      <th>8</th>\n      <td>1.772867</td>\n      <td>-0.416577</td>\n      <td>-2.200459</td>\n      <td>-0.091192</td>\n    </tr>\n    <tr>\n      <th>9</th>\n      <td>-0.496784</td>\n      <td>-0.462003</td>\n      <td>1.624592</td>\n      <td>0.298947</td>\n    </tr>\n  </tbody>\n</table>\n</div>"
     },
     "metadata": {},
     "execution_count": 5
    }
   ],
   "source": [
    "# put it back together\n",
    "#pd.concat(pieces)\n",
    "\n",
    "# indexes can be ignored\n",
    "pd.concat(pieces, ignore_index=True)\n",
    "\n",
    "# in case of dimension mismatch, Nan are added where needed"
   ]
  },
  {
   "cell_type": "code",
   "execution_count": 6,
   "metadata": {},
   "outputs": [
    {
     "output_type": "execute_result",
     "data": {
      "text/plain": [
       "          0         1         2         3\n",
       "0 -0.124687 -0.119656 -0.197543 -1.169762\n",
       "1 -0.628206  0.583260  1.938118 -0.080136\n",
       "2  0.523286  0.525161 -0.610871  1.712230\n",
       "3  0.213260  2.448231 -0.096719 -0.095600\n",
       "4 -0.401838  0.785407  0.063044  0.304537\n",
       "5  0.148045  0.169112 -0.112844 -0.730088\n",
       "6  0.574300 -0.014419 -0.646190 -1.117287\n",
       "7  0.597499 -0.703203 -0.599358  0.162409\n",
       "8  1.772867 -0.416577 -2.200459 -0.091192\n",
       "9 -0.496784 -0.462003  1.624592  0.298947"
      ],
      "text/html": "<div>\n<style scoped>\n    .dataframe tbody tr th:only-of-type {\n        vertical-align: middle;\n    }\n\n    .dataframe tbody tr th {\n        vertical-align: top;\n    }\n\n    .dataframe thead th {\n        text-align: right;\n    }\n</style>\n<table border=\"1\" class=\"dataframe\">\n  <thead>\n    <tr style=\"text-align: right;\">\n      <th></th>\n      <th>0</th>\n      <th>1</th>\n      <th>2</th>\n      <th>3</th>\n    </tr>\n  </thead>\n  <tbody>\n    <tr>\n      <th>0</th>\n      <td>-0.124687</td>\n      <td>-0.119656</td>\n      <td>-0.197543</td>\n      <td>-1.169762</td>\n    </tr>\n    <tr>\n      <th>1</th>\n      <td>-0.628206</td>\n      <td>0.583260</td>\n      <td>1.938118</td>\n      <td>-0.080136</td>\n    </tr>\n    <tr>\n      <th>2</th>\n      <td>0.523286</td>\n      <td>0.525161</td>\n      <td>-0.610871</td>\n      <td>1.712230</td>\n    </tr>\n    <tr>\n      <th>3</th>\n      <td>0.213260</td>\n      <td>2.448231</td>\n      <td>-0.096719</td>\n      <td>-0.095600</td>\n    </tr>\n    <tr>\n      <th>4</th>\n      <td>-0.401838</td>\n      <td>0.785407</td>\n      <td>0.063044</td>\n      <td>0.304537</td>\n    </tr>\n    <tr>\n      <th>5</th>\n      <td>0.148045</td>\n      <td>0.169112</td>\n      <td>-0.112844</td>\n      <td>-0.730088</td>\n    </tr>\n    <tr>\n      <th>6</th>\n      <td>0.574300</td>\n      <td>-0.014419</td>\n      <td>-0.646190</td>\n      <td>-1.117287</td>\n    </tr>\n    <tr>\n      <th>7</th>\n      <td>0.597499</td>\n      <td>-0.703203</td>\n      <td>-0.599358</td>\n      <td>0.162409</td>\n    </tr>\n    <tr>\n      <th>8</th>\n      <td>1.772867</td>\n      <td>-0.416577</td>\n      <td>-2.200459</td>\n      <td>-0.091192</td>\n    </tr>\n    <tr>\n      <th>9</th>\n      <td>-0.496784</td>\n      <td>-0.462003</td>\n      <td>1.624592</td>\n      <td>0.298947</td>\n    </tr>\n  </tbody>\n</table>\n</div>"
     },
     "metadata": {},
     "execution_count": 6
    }
   ],
   "source": [
    "# appending a single row (as a Series)\n",
    "s = rdf.iloc[3]\n",
    "rdf.append(s, ignore_index=True)\n",
    "rdf"
   ]
  },
  {
   "cell_type": "markdown",
   "metadata": {},
   "source": [
    "### Merge/Join\n",
    "\n",
    "SQL like operations on table can be performed on DataFrames. This is all rather sophisticated, refer to the [doc](https://pandas.pydata.org/pandas-docs/stable/merging.html#merging) for more info/examples"
   ]
  },
  {
   "cell_type": "code",
   "execution_count": null,
   "metadata": {},
   "outputs": [],
   "source": [
    "left = pd.DataFrame({'key': ['foo', 'bar'], 'lval': [1, 2]})\n",
    "right = pd.DataFrame({'key': ['foo', 'bar'], 'rval': [4, 5]})\n",
    "\n",
    "pd.merge(left,right,on=\"key\")"
   ]
  },
  {
   "cell_type": "markdown",
   "metadata": {},
   "source": [
    "## Grouping\n",
    "\n",
    "By “group by” we are referring to a process involving one or more of the following steps:\n",
    "\n",
    "* Splitting the data into groups based on some criteria\n",
    "* Applying a function to each group independently\n",
    "* Combining the results into a data structure\n"
   ]
  },
  {
   "cell_type": "code",
   "execution_count": 4,
   "metadata": {},
   "outputs": [
    {
     "output_type": "execute_result",
     "data": {
      "text/plain": [
       "     A      B         C         D\n",
       "0  foo    one  0.709950  0.725572\n",
       "1  bar    one -0.695101  0.454087\n",
       "2  foo    two -1.416167 -0.072695\n",
       "3  bar  three -1.315049 -0.718778\n",
       "4  foo    two  0.617320 -0.253364\n",
       "5  bar    two -0.992582 -0.674102\n",
       "6  foo    one  1.271499 -0.396244\n",
       "7  foo  three -1.017791 -0.549813"
      ],
      "text/html": "<div>\n<style scoped>\n    .dataframe tbody tr th:only-of-type {\n        vertical-align: middle;\n    }\n\n    .dataframe tbody tr th {\n        vertical-align: top;\n    }\n\n    .dataframe thead th {\n        text-align: right;\n    }\n</style>\n<table border=\"1\" class=\"dataframe\">\n  <thead>\n    <tr style=\"text-align: right;\">\n      <th></th>\n      <th>A</th>\n      <th>B</th>\n      <th>C</th>\n      <th>D</th>\n    </tr>\n  </thead>\n  <tbody>\n    <tr>\n      <th>0</th>\n      <td>foo</td>\n      <td>one</td>\n      <td>0.709950</td>\n      <td>0.725572</td>\n    </tr>\n    <tr>\n      <th>1</th>\n      <td>bar</td>\n      <td>one</td>\n      <td>-0.695101</td>\n      <td>0.454087</td>\n    </tr>\n    <tr>\n      <th>2</th>\n      <td>foo</td>\n      <td>two</td>\n      <td>-1.416167</td>\n      <td>-0.072695</td>\n    </tr>\n    <tr>\n      <th>3</th>\n      <td>bar</td>\n      <td>three</td>\n      <td>-1.315049</td>\n      <td>-0.718778</td>\n    </tr>\n    <tr>\n      <th>4</th>\n      <td>foo</td>\n      <td>two</td>\n      <td>0.617320</td>\n      <td>-0.253364</td>\n    </tr>\n    <tr>\n      <th>5</th>\n      <td>bar</td>\n      <td>two</td>\n      <td>-0.992582</td>\n      <td>-0.674102</td>\n    </tr>\n    <tr>\n      <th>6</th>\n      <td>foo</td>\n      <td>one</td>\n      <td>1.271499</td>\n      <td>-0.396244</td>\n    </tr>\n    <tr>\n      <th>7</th>\n      <td>foo</td>\n      <td>three</td>\n      <td>-1.017791</td>\n      <td>-0.549813</td>\n    </tr>\n  </tbody>\n</table>\n</div>"
     },
     "metadata": {},
     "execution_count": 4
    }
   ],
   "source": [
    "gdf = pd.DataFrame({'A' : ['foo', 'bar', 'foo', 'bar',\n",
    "                          'foo', 'bar', 'foo', 'foo'],\n",
    "                    'B' : ['one', 'one', 'two', 'three',\n",
    "                           'two', 'two', 'one', 'three'],\n",
    "                    'C' : np.random.randn(8),\n",
    "                    'D' : np.random.randn(8)})\n",
    "gdf"
   ]
  },
  {
   "cell_type": "code",
   "execution_count": 19,
   "metadata": {},
   "outputs": [
    {
     "output_type": "execute_result",
     "data": {
      "text/plain": [
       "            C         D\n",
       "A                      \n",
       "bar -0.717779  0.066819\n",
       "foo -0.228453 -3.924713"
      ],
      "text/html": "<div>\n<style scoped>\n    .dataframe tbody tr th:only-of-type {\n        vertical-align: middle;\n    }\n\n    .dataframe tbody tr th {\n        vertical-align: top;\n    }\n\n    .dataframe thead th {\n        text-align: right;\n    }\n</style>\n<table border=\"1\" class=\"dataframe\">\n  <thead>\n    <tr style=\"text-align: right;\">\n      <th></th>\n      <th>C</th>\n      <th>D</th>\n    </tr>\n    <tr>\n      <th>A</th>\n      <th></th>\n      <th></th>\n    </tr>\n  </thead>\n  <tbody>\n    <tr>\n      <th>bar</th>\n      <td>-0.717779</td>\n      <td>0.066819</td>\n    </tr>\n    <tr>\n      <th>foo</th>\n      <td>-0.228453</td>\n      <td>-3.924713</td>\n    </tr>\n  </tbody>\n</table>\n</div>"
     },
     "metadata": {},
     "execution_count": 19
    }
   ],
   "source": [
    "# Grouping and then applying the sum() \n",
    "# function to the resulting groups (effective only where number are there).\n",
    "gdf.groupby('A').sum()"
   ]
  },
  {
   "cell_type": "markdown",
   "metadata": {},
   "source": [
    "## Multi-indexing\n",
    "\n",
    "\n",
    "Hierarchical / Multi-level indexing allows sophisticated data analysis on higher dimensional data. In essence, it enables you to store and manipulate data with an arbitrary number of dimensions in lower dimensional data structures like Series (1d) and DataFrame (2d)."
   ]
  },
  {
   "cell_type": "code",
   "execution_count": null,
   "metadata": {},
   "outputs": [],
   "source": [
    "tuples = list(zip(['bar', 'bar', 'baz', 'baz', 'foo', 'foo', 'qux', 'qux'],\n",
    "          ['one', 'two', 'one', 'two', 'one', 'two', 'one', 'two']))\n",
    "multi_index = pd.MultiIndex.from_tuples(tuples, names=['first', 'second'])\n",
    "print (multi_index,'\\n')\n",
    "\n",
    "s = pd.Series(np.random.randn(8), index=multi_index)\n",
    "print (s)\n"
   ]
  },
  {
   "cell_type": "code",
   "execution_count": null,
   "metadata": {},
   "outputs": [],
   "source": [
    "# it enables further features of the groupby method,\n",
    "# e.g. when group-by by multiple columns\n",
    "gdf.groupby(['A','B']).sum()"
   ]
  },
  {
   "cell_type": "code",
   "execution_count": null,
   "metadata": {},
   "outputs": [],
   "source": [
    "# stack() method “compresses” a level in the DataFrame’s columns\n",
    "gdf.groupby(['A','B']).sum().stack()"
   ]
  },
  {
   "cell_type": "markdown",
   "metadata": {},
   "source": [
    "## Plotting\n",
    "\n",
    "Just a preview, more on the next lab class!"
   ]
  },
  {
   "cell_type": "code",
   "execution_count": null,
   "metadata": {},
   "outputs": [],
   "source": [
    "ts = pd.Series(np.random.randn(1000), index=pd.date_range('1/1/2000', periods=1000))\n",
    "ts.cumsum().plot()"
   ]
  },
  {
   "cell_type": "code",
   "execution_count": null,
   "metadata": {},
   "outputs": [],
   "source": [
    "import matplotlib.pyplot as plt\n",
    "\n",
    "pdf=pd.DataFrame(np.random.randn(1000, 4), index=ts.index,columns=['A', 'B', 'C', 'D'])\n",
    "df = df.cumsum()\n",
    "plt.figure(); df.plot(); plt.legend(loc='best')"
   ]
  },
  {
   "cell_type": "code",
   "execution_count": null,
   "metadata": {},
   "outputs": [],
   "source": []
  }
 ],
 "metadata": {
  "kernelspec": {
   "display_name": "Python 3",
   "language": "python",
   "name": "python3"
  },
  "language_info": {
   "codemirror_mode": {
    "name": "ipython",
    "version": 3
   },
   "file_extension": ".py",
   "mimetype": "text/x-python",
   "name": "python",
   "nbconvert_exporter": "python",
   "pygments_lexer": "ipython3",
   "version": "3.8.5-final"
  }
 },
 "nbformat": 4,
 "nbformat_minor": 2
}